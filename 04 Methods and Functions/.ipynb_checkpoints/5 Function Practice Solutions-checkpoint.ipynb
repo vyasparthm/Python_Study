{
 "cells": [
  {
   "cell_type": "markdown",
   "metadata": {},
   "source": [
    "# Functions and Methods Solutions \n",
    "\n",
    "Complete the following questions:\n",
    "____\n",
    "**Write a function that computes the volume of a sphere given its radius.**\n",
    "<p>The volume of a sphere is given as $$\\frac{4}{3} πr^3$$</p>"
   ]
  },
  {
   "cell_type": "code",
   "execution_count": 24,
   "metadata": {},
   "outputs": [],
   "source": [
    "def vol(rad):\n",
    "    '''\n",
    "    This function calculates the volume of a sphere.\n",
    "    INPUT: radius of sphere\n",
    "    '''\n",
    "    import math # or you can just use 3.14 instead math.pi in below return statement\n",
    "    return (4/3)*(math.pi)* (rad**3)"
   ]
  },
  {
   "cell_type": "code",
   "execution_count": 16,
   "metadata": {},
   "outputs": [
    {
     "data": {
      "text/plain": [
       "33.510321638291124"
      ]
     },
     "execution_count": 16,
     "metadata": {},
     "output_type": "execute_result"
    }
   ],
   "source": [
    "# Check\n",
    "vol(2)"
   ]
  },
  {
   "cell_type": "markdown",
   "metadata": {},
   "source": [
    "___\n",
    "**Write a function that checks whether a number is in a given range (inclusive of high and low)**"
   ]
  },
  {
   "cell_type": "code",
   "execution_count": 25,
   "metadata": {},
   "outputs": [],
   "source": [
    "def ran_check(num,low,high):\n",
    "    '''\n",
    "    This Function takes a number and range and checks if it is in the given range.\n",
    "    INPUT: 3 numbers: number, low of range, high of range\n",
    "    '''\n",
    "    if num in range(low,high+1):\n",
    "        return ('Number {} is in the range between {} and {}'.format(num,low,high))\n",
    "    else:\n",
    "        return ('Number {} is out of range and not between {} and {}'.format(num,low,high))"
   ]
  },
  {
   "cell_type": "code",
   "execution_count": 18,
   "metadata": {},
   "outputs": [
    {
     "data": {
      "text/plain": [
       "'Number 5 is out of range and not between 2 and 3'"
      ]
     },
     "execution_count": 18,
     "metadata": {},
     "output_type": "execute_result"
    }
   ],
   "source": [
    "# Check\n",
    "ran_check(5,2,3)"
   ]
  },
  {
   "cell_type": "markdown",
   "metadata": {},
   "source": [
    "If you only wanted to return a boolean:"
   ]
  },
  {
   "cell_type": "code",
   "execution_count": 19,
   "metadata": {},
   "outputs": [],
   "source": [
    "def ran_bool(num,low,high):\n",
    "    return num in range(low,high+1)"
   ]
  },
  {
   "cell_type": "code",
   "execution_count": 20,
   "metadata": {},
   "outputs": [
    {
     "data": {
      "text/plain": [
       "True"
      ]
     },
     "execution_count": 20,
     "metadata": {},
     "output_type": "execute_result"
    }
   ],
   "source": [
    "ran_bool(3,1,10)"
   ]
  },
  {
   "cell_type": "markdown",
   "metadata": {},
   "source": [
    "____\n",
    "**Write a Python function that accepts a string and calculates the number of upper case letters and lower case letters.**\n",
    "\n",
    "    Sample String : 'Hello Mr. Rogers, how are you this fine Tuesday?'\n",
    "    Expected Output : \n",
    "    No. of Upper case characters : 4\n",
    "    No. of Lower case Characters : 33\n",
    "\n",
    "HINT: Two string methods that might prove useful: **.isupper()** and **.islower()**\n",
    "\n",
    "If you feel ambitious, explore the Collections module to solve this problem!"
   ]
  },
  {
   "cell_type": "code",
   "execution_count": 26,
   "metadata": {},
   "outputs": [],
   "source": [
    "def up_low(s):\n",
    "    '''\n",
    "    This functions counts UPPERCASE and lowercase letters in a given input string.\n",
    "    INPUT: String\n",
    "    '''\n",
    "    d = {'Upper':0,'Lower':0}\n",
    "    for ch in s:\n",
    "        if ch.isupper():\n",
    "            d['Upper']+=1\n",
    "        elif ch.islower():\n",
    "            d['Lower']+=1\n",
    "        else:\n",
    "            pass\n",
    "    print('Original String:',s)\n",
    "    print('# of UPPER Characters: ',d['Upper'])\n",
    "    print('# of lower characters: ',d['Lower'])"
   ]
  },
  {
   "cell_type": "code",
   "execution_count": 22,
   "metadata": {},
   "outputs": [
    {
     "name": "stdout",
     "output_type": "stream",
     "text": [
      "Original String: Hello Captain Rogers, how are you this fine Tuesday?\n",
      "# of UPPER Characters:  4\n",
      "# of lower characters:  38\n"
     ]
    }
   ],
   "source": [
    "s = 'Hello Captain Rogers, how are you this fine Tuesday?'\n",
    "up_low(s)"
   ]
  },
  {
   "cell_type": "markdown",
   "metadata": {},
   "source": [
    "____\n",
    "**Write a Python function that takes a list and returns a new list with unique elements of the first list.**\n",
    "\n",
    "    Sample List : [1,1,1,1,2,2,3,3,3,3,4,5]\n",
    "    Unique List : [1, 2, 3, 4, 5]"
   ]
  },
  {
   "cell_type": "code",
   "execution_count": 27,
   "metadata": {},
   "outputs": [],
   "source": [
    "def unique_list(lst):\n",
    "    '''\n",
    "    This Function takes a simple list and returns a list that contains unique elements.\n",
    "    INPUT: a list\n",
    "    '''\n",
    "    x = []\n",
    "    for item in lst:\n",
    "        if item not in x:\n",
    "            x.append(item)\n",
    "    return x"
   ]
  },
  {
   "cell_type": "code",
   "execution_count": 29,
   "metadata": {},
   "outputs": [
    {
     "data": {
      "text/plain": [
       "[1, 2, 3, 4, 5, 6]"
      ]
     },
     "execution_count": 29,
     "metadata": {},
     "output_type": "execute_result"
    }
   ],
   "source": [
    "unique_list([1,1,1,1,2,2,3,3,3,3,4,5,6])"
   ]
  },
  {
   "cell_type": "markdown",
   "metadata": {},
   "source": [
    "____\n",
    "**Write a Python function to multiply all the numbers in a list.**\n",
    "\n",
    "    Sample List : [1, 2, 3, -4]\n",
    "    Expected Output : -24"
   ]
  },
  {
   "cell_type": "code",
   "execution_count": 31,
   "metadata": {},
   "outputs": [],
   "source": [
    "def multiply(numbers):  \n",
    "    '''\n",
    "    This Function takes a list containing numbers and returns multiplication of list elements.\n",
    "    INPUT: list containing numbers\n",
    "    '''\n",
    "    mul = 1\n",
    "    for li in numbers:\n",
    "        mul = mul * li\n",
    "    return mul"
   ]
  },
  {
   "cell_type": "code",
   "execution_count": 32,
   "metadata": {},
   "outputs": [
    {
     "data": {
      "text/plain": [
       "-24"
      ]
     },
     "execution_count": 32,
     "metadata": {},
     "output_type": "execute_result"
    }
   ],
   "source": [
    "multiply([1,2,3,-4])"
   ]
  },
  {
   "cell_type": "markdown",
   "metadata": {},
   "source": [
    "____\n",
    "**Write a Python function that checks whether a passed in string is palindrome or not.**\n",
    "\n",
    "Note: A palindrome is word, phrase, or sequence that reads the same backward as forward, e.g., madam or nurses run."
   ]
  },
  {
   "cell_type": "code",
   "execution_count": 35,
   "metadata": {},
   "outputs": [],
   "source": [
    "def palindrome(s):\n",
    "    '''\n",
    "    This Function checks if the given input string is pelindrome or not\n",
    "    INPUT: String\n",
    "    '''\n",
    "    s = s.replace(' ','') # To replace <Blank Space> with <NO Space>\n",
    "    return s == s[::-1]"
   ]
  },
  {
   "cell_type": "code",
   "execution_count": 36,
   "metadata": {},
   "outputs": [
    {
     "data": {
      "text/plain": [
       "True"
      ]
     },
     "execution_count": 36,
     "metadata": {},
     "output_type": "execute_result"
    }
   ],
   "source": [
    "palindrome('helleh')"
   ]
  },
  {
   "cell_type": "markdown",
   "metadata": {},
   "source": [
    "____\n",
    "### Challange Problem:\n",
    "\n",
    "**Write a Python function to check whether a string is pangram or not.**\n",
    "\n",
    "    Note : Pangrams are words or sentences containing every letter of the alphabet at least once.\n",
    "    For example : \"The quick brown fox jumps over the lazy dog\"\n",
    "\n",
    "We have multiple ways of doing this, Thanks to [Geeks for Geeks](https://www.geeksforgeeks.org/python-program-to-check-if-given-string-is-pangram/) We will cover all of it.\n",
    "\n",
    "Hint: Look at the string module"
   ]
  },
  {
   "cell_type": "markdown",
   "metadata": {},
   "source": [
    "#### Approach #1 : Pythonic Naive\n",
    "This method uses a loop to check if each character of the string belongs to the alphabet set or not."
   ]
  },
  {
   "cell_type": "code",
   "execution_count": 39,
   "metadata": {},
   "outputs": [
    {
     "name": "stdout",
     "output_type": "stream",
     "text": [
      "The string is Pangram\n"
     ]
    }
   ],
   "source": [
    "# Lets Check if the string is Pangram First then do the rest\n",
    "import string\n",
    "\n",
    "def ispangram(str):\n",
    "    alphabet = 'abcdefghijklmnopqrstuvwxyz'\n",
    "    for char in alphabet:\n",
    "        if char not in str.lower():\n",
    "            return False\n",
    "    return True\n",
    "string = 'the quick brown fox jumps over the lazy dog'\n",
    "\n",
    "#Driver code\n",
    "if(ispangram(string) == True):\n",
    "    print('The string is Pangram')\n",
    "else:\n",
    "    print('The string is NOT Pangram')"
   ]
  },
  {
   "cell_type": "markdown",
   "metadata": {},
   "source": [
    "#### Approach #2 : Using Python Set\n",
    "Convert the given string into set and then check if the alphabet set is greater than or equal to it or not."
   ]
  },
  {
   "cell_type": "code",
   "execution_count": 42,
   "metadata": {},
   "outputs": [
    {
     "name": "stdout",
     "output_type": "stream",
     "text": [
      "The string is Pangram\n"
     ]
    }
   ],
   "source": [
    "import string\n",
    "alphabet = set(string.ascii_lowercase)\n",
    "#print(alphabet)\n",
    "def ispangram(string):\n",
    "    return set(string.lower()) >=alphabet\n",
    "\n",
    "#Driver code\n",
    "string = 'the quick brown fox jumps over the lazy dog'\n",
    "\n",
    "if(ispangram(string)==True):\n",
    "    print('The string is Pangram')\n",
    "else:\n",
    "    print('The string is NOT Pangram')"
   ]
  },
  {
   "cell_type": "markdown",
   "metadata": {},
   "source": [
    "#### Approach #3 : Alternative to set method\n",
    "This is another method that uses Python set to find if the string is Pangram or not. We make set of lowercase alphabets and the given string. If set of given string is subtracted from the set of alphabets, we get to know whether the string is pangram or not."
   ]
  },
  {
   "cell_type": "code",
   "execution_count": 44,
   "metadata": {},
   "outputs": [
    {
     "name": "stdout",
     "output_type": "stream",
     "text": [
      "{'k', 'e', 'h', 'f', 'l', 'w', 'd', 'a', 'r', 'y', 'j', 'b', 'p', 'z', 'g', 'i', 'o', 's', 'c', 'x', 'n', 'u', 'v', 't', 'q', 'm'}\n",
      "The string is NOT Pangram\n"
     ]
    }
   ],
   "source": [
    "import string\n",
    "\n",
    "alphabet = set(string.ascii_lowercase)\n",
    "print(alphabet)\n",
    "\n",
    "def ispangram(string):\n",
    "    return not set(alphabet) - set(string)\n",
    "\n",
    "#Driver Code\n",
    "\n",
    "string = 'the quick brown fox jumps over the lazy cow'\n",
    "\n",
    "if(ispangram(string)==True):\n",
    "    print('The string is Pangram')\n",
    "else:\n",
    "    print('The string is NOT Pangram')"
   ]
  },
  {
   "cell_type": "markdown",
   "metadata": {},
   "source": [
    "#### Approach #4 : ASCII method\n",
    "Check if each character of the string lies between the ASCII range of lowercase alphabets i.e. 96 to 122."
   ]
  },
  {
   "cell_type": "code",
   "execution_count": 46,
   "metadata": {},
   "outputs": [
    {
     "name": "stdout",
     "output_type": "stream",
     "text": [
      "The string is NOT Pangram\n"
     ]
    }
   ],
   "source": [
    "import string, itertools\n",
    "\n",
    "alphabet = set(string.ascii_lowercase)\n",
    "\n",
    "def ispangram(string):\n",
    "    return sum(1 for i in set(string) if 96 <ord(i)<=122) == 26\n",
    "\n",
    "#Driver Code\n",
    "string = 'the quick brown fox jumps over the lazy cow'\n",
    "\n",
    "if(ispangram(string)==True):\n",
    "    print('The string is Pangram')\n",
    "else:\n",
    "    print('The string is NOT Pangram')\n"
   ]
  },
  {
   "cell_type": "markdown",
   "metadata": {
    "collapsed": true
   },
   "source": [
    "#### Great Job! Go ahead and find more practice examples online!! Good luck :)"
   ]
  }
 ],
 "metadata": {
  "kernelspec": {
   "display_name": "Python 3",
   "language": "python",
   "name": "python3"
  },
  "language_info": {
   "codemirror_mode": {
    "name": "ipython",
    "version": 3
   },
   "file_extension": ".py",
   "mimetype": "text/x-python",
   "name": "python",
   "nbconvert_exporter": "python",
   "pygments_lexer": "ipython3",
   "version": "3.7.4"
  }
 },
 "nbformat": 4,
 "nbformat_minor": 1
}
