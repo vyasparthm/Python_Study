{
 "cells": [
  {
   "cell_type": "markdown",
   "metadata": {},
   "source": [
    "### Numbers in Python!\n",
    "\n",
    "In this Notebook, I will demonstrate about numbers in Python and how to use them.\n",
    "\n",
    "I am covering a few of the topics: \n",
    "\n",
    "1. Types of Numbers in Python\n",
    "2. Basic Arithmetic\n",
    "3. Differences between classic division and floor division\n",
    "4. Object Assignment in Python"
   ]
  },
  {
   "cell_type": "markdown",
   "metadata": {},
   "source": [
    "## Types of Numbers\n",
    "\n",
    "Although Python has different types of numbers, Lets focus on integers and floating point numbers.\n",
    "\n",
    "Integers are just whole numbers, positive or negative. For example: 2 and -2 are examples of integers.\n",
    "\n",
    "Floating point numbers in Python are notable because they have a decimal point in them, or use an exponential (e) to define the number. For example 2.0 and -2.1 are examples of floating point numbers. 4E2 (4 times 10 to the power of 2) is also an example of a floating point number in Python.\n",
    "\n",
    "Throughout this course we will be mainly working with integers or simple float number types.\n",
    "\n",
    "Here is a table of the two main types we will spend most of our time working with some examples:\n",
    "\n",
    "<table>\n",
    "<tr>\n",
    "    <th>Examples</th> \n",
    "    <th>Number \"Type\"</th>\n",
    "</tr>\n",
    "\n",
    "<tr>\n",
    "    <td>1,2,-5,1000</td>\n",
    "    <td>Integers</td> \n",
    "</tr>\n",
    "\n",
    "<tr>\n",
    "    <td>1.2,-0.5,2e2,3E2</td> \n",
    "    <td>Floating-point numbers</td> \n",
    "</tr>\n",
    " </table>\n",
    " \n",
    " Now let's start with some basic airthmatic."
   ]
  },
  {
   "cell_type": "markdown",
   "metadata": {},
   "source": [
    "### Basic Airthmatic"
   ]
  },
  {
   "cell_type": "code",
   "execution_count": 3,
   "metadata": {},
   "outputs": [
    {
     "name": "stdout",
     "output_type": "stream",
     "text": [
      "Addition of integers:  3\n",
      "Addition of Floating Point numbers:  3.5\n"
     ]
    }
   ],
   "source": [
    "# Adition: Like any other language python utilizes (+) operator for addition of two numbers\n",
    "\n",
    "print('Addition of integers: ' , 1+2)\n",
    "print('Addition of Floating Point numbers: ',1.0+2.5)\n",
    "\n",
    "### NOTE: As we know,there is no need to tell python of data type. Python is smart enough to figure it out!!!"
   ]
  },
  {
   "cell_type": "code",
   "execution_count": 7,
   "metadata": {},
   "outputs": [
    {
     "name": "stdout",
     "output_type": "stream",
     "text": [
      "Subtraction of integers:  1\n",
      "Subtraction of Floating Point numbers:  1.3999999999999995\n",
      "Subtraction of Floating Point numbers with Rounding:  1.4\n"
     ]
    }
   ],
   "source": [
    "# Subtraction: Like any other language python utilizes (-) operator for subtraction of two numbers\n",
    "\n",
    "print('Subtraction of integers: ', 3-2)\n",
    "print('Subtraction of Floating Point numbers: ', 4.6 - 3.2) # This will give a lot of decimal places\n",
    "# to limit the numbers after decimal we can use round() to get desired result\n",
    "\n",
    "print('Subtraction of Floating Point numbers with Rounding: ', round((4.6 - 3.2),3)) # This will round the number to the nearest decimal"
   ]
  },
  {
   "cell_type": "code",
   "execution_count": 10,
   "metadata": {},
   "outputs": [
    {
     "name": "stdout",
     "output_type": "stream",
     "text": [
      "Multiplication of 2 integers:  12\n",
      "Multiplication of two floating point numbers:  7.3500000000000005\n",
      "Multiplication of two floating point numbers with rounding:  7.35\n"
     ]
    }
   ],
   "source": [
    "# Multiplication: Like any other language python utilizes (*) operator for multiplication of two numbers\n",
    "\n",
    "print('Multiplication of 2 integers: ', 4*3)\n",
    "print('Multiplication of two floating point numbers: ', 3.5*2.1)\n",
    "print('Multiplication of two floating point numbers with rounding: ', round(3.5*2.1,2))"
   ]
  },
  {
   "cell_type": "code",
   "execution_count": 11,
   "metadata": {},
   "outputs": [
    {
     "name": "stdout",
     "output_type": "stream",
     "text": [
      "Division of two integers:  2.5\n",
      "Division of floating point numbers:  2.6666666666666665\n",
      "Division of floating point numbers with rounding:  2.67\n"
     ]
    }
   ],
   "source": [
    "# Division: Like any other language python utilizes (/) operator for division of two numbers\n",
    "\n",
    "print('Division of two integers: ', 5/2)\n",
    "print('Division of floating point numbers: ', 5.6 / 2.1)\n",
    "print('Division of floating point numbers with rounding: ', round(5.6/2.1,2))"
   ]
  },
  {
   "cell_type": "code",
   "execution_count": 16,
   "metadata": {},
   "outputs": [
    {
     "name": "stdout",
     "output_type": "stream",
     "text": [
      "Without Floor Division:  2.3333333333333335\n",
      "With Floor Division:  2\n",
      "Result with Modulo(%) Operator:  3\n"
     ]
    }
   ],
   "source": [
    "# Floor Division: This division is used when you want just an integer part of the result. Python utilizes (//) for this purpose.\n",
    "\n",
    "print('Without Floor Division: ', 7/3)\n",
    "print('With Floor Division: ',7//3)\n",
    "\n",
    "# And if we just want the Remainder part from this calculation, we can use (%) operator\n",
    "\n",
    "print('Result with Modulo(%) Operator: ', 7%4)"
   ]
  },
  {
   "cell_type": "code",
   "execution_count": null,
   "metadata": {},
   "outputs": [],
   "source": []
  }
 ],
 "metadata": {
  "kernelspec": {
   "display_name": "Python 3",
   "language": "python",
   "name": "python3"
  },
  "language_info": {
   "codemirror_mode": {
    "name": "ipython",
    "version": 3
   },
   "file_extension": ".py",
   "mimetype": "text/x-python",
   "name": "python",
   "nbconvert_exporter": "python",
   "pygments_lexer": "ipython3",
   "version": "3.7.1"
  }
 },
 "nbformat": 4,
 "nbformat_minor": 2
}
