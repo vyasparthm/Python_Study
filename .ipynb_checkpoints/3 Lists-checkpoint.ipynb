{
 "cells": [
  {
   "cell_type": "markdown",
   "metadata": {},
   "source": [
    "# Lists\n",
    "\n",
    "Earlier when discussing strings we introduced the concept of a *sequence* in Python. Lists can be thought of the most general version of a *sequence* in Python. Unlike strings, they are mutable, meaning the elements inside a list can be changed! You can also think of list as an array in other languages but lists are much cooler than regular arrays.\n",
    "\n",
    "In this section we will learn about:\n",
    "    \n",
    "    1. Creating lists\n",
    "    2. Indexing and Slicing Lists\n",
    "    3. Basic List Methods\n",
    "    4. Nesting Lists\n",
    "    5. Introduction to List Comprehensions\n",
    "\n",
    "Lists are constructed with brackets [] and commas separating every element in the list.\n",
    "\n",
    "Let's go ahead and see how we can construct lists!"
   ]
  },
  {
   "cell_type": "markdown",
   "metadata": {},
   "source": [
    "#### 1. Creating lists"
   ]
  },
  {
   "cell_type": "code",
   "execution_count": 1,
   "metadata": {},
   "outputs": [],
   "source": [
    "# Tocreate a list, all you have to do is assign it to a variable and put some values in there!\n",
    "\n",
    "movies = ['Captain America: The First Avenger', 'Iron Man','ron Man 2','Thor']"
   ]
  },
  {
   "cell_type": "markdown",
   "metadata": {},
   "source": [
    "Now this is a movie list but just one data type, Python doesn't limit us from adding multiple data type in a single list.\n",
    "\n",
    "Just for the sake of the story, I will add the year of movie it was introduced originally by Marvel.\n",
    "\n",
    "Lets take a look:"
   ]
  },
  {
   "cell_type": "code",
   "execution_count": 2,
   "metadata": {},
   "outputs": [],
   "source": [
    "movies = ['Captain America: The First Avenger','1943', 'Iron Man','2010','Iron Man 2','2011','Thor','2011']"
   ]
  },
  {
   "cell_type": "code",
   "execution_count": 3,
   "metadata": {},
   "outputs": [
    {
     "data": {
      "text/plain": [
       "['Captain America: The First Avenger',\n",
       " '1943',\n",
       " 'Iron Man',\n",
       " '2010',\n",
       " 'Iron Man 2',\n",
       " '2011',\n",
       " 'Thor',\n",
       " '2011']"
      ]
     },
     "execution_count": 3,
     "metadata": {},
     "output_type": "execute_result"
    }
   ],
   "source": [
    "# Lets print our movies and see how it looks\n",
    "movies"
   ]
  },
  {
   "cell_type": "code",
   "execution_count": 4,
   "metadata": {},
   "outputs": [
    {
     "data": {
      "text/plain": [
       "8"
      ]
     },
     "execution_count": 4,
     "metadata": {},
     "output_type": "execute_result"
    }
   ],
   "source": [
    "# Also, if you want to just check number of items in list:\n",
    "\n",
    "len(movies)"
   ]
  },
  {
   "cell_type": "markdown",
   "metadata": {},
   "source": [
    "####  2. Indexing and Slicing\n",
    "Indexing and slicing work just like in strings. Let's try and print a few things from `movies`"
   ]
  },
  {
   "cell_type": "code",
   "execution_count": 6,
   "metadata": {},
   "outputs": [
    {
     "name": "stdout",
     "output_type": "stream",
     "text": [
      "The first movie with Steve Rogers Captain America: The First Avenger and the first mention of that was done in 1943\n"
     ]
    }
   ],
   "source": [
    "print(f\"The first movie with Steve Rogers {movies[0]} and the first mention of that was done in {movies[1]}\")"
   ]
  },
  {
   "cell_type": "markdown",
   "metadata": {},
   "source": [
    "##### Lets try and iterate through the list and print everything witha for loop\n",
    "\n",
    "**As per HeadFirst labs, we can say that Lists are Array but \"Arrays on Steroids!!\"**\n",
    "\n",
    "Say you want to print list item without any quotes, we can just play around with a for loop a little bit and make it work"
   ]
  },
  {
   "cell_type": "code",
   "execution_count": 12,
   "metadata": {},
   "outputs": [
    {
     "name": "stdout",
     "output_type": "stream",
     "text": [
      "List item:  Captain America: The First Avenger \n",
      "\n",
      "List item:  1943 \n",
      "\n",
      "List item:  Iron Man \n",
      "\n",
      "List item:  2010 \n",
      "\n",
      "List item:  Iron Man 2 \n",
      "\n",
      "List item:  2011 \n",
      "\n",
      "List item:  Thor \n",
      "\n",
      "List item:  2011 \n",
      "\n"
     ]
    }
   ],
   "source": [
    "for item in movies:\n",
    "    print('List item: ',item,'\\n') # \\n for new line\n",
    "    "
   ]
  },
  {
   "cell_type": "code",
   "execution_count": 14,
   "metadata": {},
   "outputs": [
    {
     "name": "stdout",
     "output_type": "stream",
     "text": [
      "['Iron Man', '2010', 'Iron Man 2', '2011', 'Thor', '2011']\n",
      "['Captain America: The First Avenger', '1943', 'Iron Man', '2010']\n"
     ]
    }
   ],
   "source": [
    "# Print everything from a certain index\n",
    "\n",
    "print(movies[2:])\n",
    "\n",
    "# Print up to certain index\n",
    "\n",
    "print(movies[:4])"
   ]
  },
  {
   "cell_type": "code",
   "execution_count": null,
   "metadata": {},
   "outputs": [],
   "source": []
  }
 ],
 "metadata": {
  "kernelspec": {
   "display_name": "Python 3",
   "language": "python",
   "name": "python3"
  },
  "language_info": {
   "codemirror_mode": {
    "name": "ipython",
    "version": 3
   },
   "file_extension": ".py",
   "mimetype": "text/x-python",
   "name": "python",
   "nbconvert_exporter": "python",
   "pygments_lexer": "ipython3",
   "version": "3.7.1"
  }
 },
 "nbformat": 4,
 "nbformat_minor": 2
}
