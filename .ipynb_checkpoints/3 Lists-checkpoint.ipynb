{
 "cells": [
  {
   "cell_type": "markdown",
   "metadata": {},
   "source": [
    "# Lists\n",
    "\n",
    "Earlier when discussing strings we introduced the concept of a *sequence* in Python. Lists can be thought of the most general version of a *sequence* in Python. Unlike strings, they are mutable, meaning the elements inside a list can be changed! You can also think of list as an array in other languages but lists are much cooler than regular arrays.\n",
    "\n",
    "In this section we will learn about:\n",
    "    \n",
    "    1. Creating lists\n",
    "    2. Indexing and Slicing Lists\n",
    "    3. Basic List Methods\n",
    "    4. Nesting Lists\n",
    "    5. Introduction to List Comprehensions\n",
    "\n",
    "Lists are constructed with brackets [] and commas separating every element in the list.\n",
    "\n",
    "Let's go ahead and see how we can construct lists!"
   ]
  },
  {
   "cell_type": "markdown",
   "metadata": {},
   "source": [
    "#### 1. Creating lists"
   ]
  },
  {
   "cell_type": "code",
   "execution_count": 1,
   "metadata": {},
   "outputs": [],
   "source": [
    "# Tocreate a list, all you have to do is assign it to a variable and put some values in there!\n",
    "\n",
    "movies = ['Captain America: The First Avenger', 'Iron Man','ron Man 2','Thor']"
   ]
  },
  {
   "cell_type": "markdown",
   "metadata": {},
   "source": [
    "Now this is a movie list but just one data type, Python doesn't limit us from adding multiple data type in a single list.\n",
    "\n",
    "Just for the sake of the story, I will add the year of movie it was introduced originally by Marvel.\n",
    "\n",
    "Lets take a look:"
   ]
  },
  {
   "cell_type": "code",
   "execution_count": 1,
   "metadata": {},
   "outputs": [],
   "source": [
    "movies = ['Captain America: The First Avenger','1943', 'Iron Man','2010','Iron Man 2','2011','Thor','2011']"
   ]
  },
  {
   "cell_type": "code",
   "execution_count": 3,
   "metadata": {},
   "outputs": [
    {
     "data": {
      "text/plain": [
       "['Captain America: The First Avenger',\n",
       " '1943',\n",
       " 'Iron Man',\n",
       " '2010',\n",
       " 'Iron Man 2',\n",
       " '2011',\n",
       " 'Thor',\n",
       " '2011']"
      ]
     },
     "execution_count": 3,
     "metadata": {},
     "output_type": "execute_result"
    }
   ],
   "source": [
    "# Lets print our movies and see how it looks\n",
    "movies"
   ]
  },
  {
   "cell_type": "code",
   "execution_count": 4,
   "metadata": {},
   "outputs": [
    {
     "data": {
      "text/plain": [
       "8"
      ]
     },
     "execution_count": 4,
     "metadata": {},
     "output_type": "execute_result"
    }
   ],
   "source": [
    "# Also, if you want to just check number of items in list:\n",
    "\n",
    "len(movies)"
   ]
  },
  {
   "cell_type": "markdown",
   "metadata": {},
   "source": [
    "####  2. Indexing and Slicing\n",
    "Indexing and slicing work just like in strings. Let's try and print a few things from `movies`"
   ]
  },
  {
   "cell_type": "code",
   "execution_count": 6,
   "metadata": {},
   "outputs": [
    {
     "name": "stdout",
     "output_type": "stream",
     "text": [
      "The first movie with Steve Rogers Captain America: The First Avenger and the first mention of that was done in 1943\n"
     ]
    }
   ],
   "source": [
    "print(f\"The first movie with Steve Rogers {movies[0]} and the first mention of that was done in {movies[1]}\")"
   ]
  },
  {
   "cell_type": "markdown",
   "metadata": {},
   "source": [
    "##### Lets try and iterate through the list and print everything witha for loop\n",
    "\n",
    "**As per HeadFirst labs, we can say that Lists are Array but \"Arrays on Steroids!!\"**\n",
    "\n",
    "Say you want to print list item without any quotes, we can just play around with a for loop a little bit and make it work"
   ]
  },
  {
   "cell_type": "code",
   "execution_count": 12,
   "metadata": {},
   "outputs": [
    {
     "name": "stdout",
     "output_type": "stream",
     "text": [
      "List item:  Captain America: The First Avenger \n",
      "\n",
      "List item:  1943 \n",
      "\n",
      "List item:  Iron Man \n",
      "\n",
      "List item:  2010 \n",
      "\n",
      "List item:  Iron Man 2 \n",
      "\n",
      "List item:  2011 \n",
      "\n",
      "List item:  Thor \n",
      "\n",
      "List item:  2011 \n",
      "\n"
     ]
    }
   ],
   "source": [
    "for item in movies:\n",
    "    print('List item: ',item,'\\n') # \\n for new line\n",
    "    "
   ]
  },
  {
   "cell_type": "code",
   "execution_count": 14,
   "metadata": {},
   "outputs": [
    {
     "name": "stdout",
     "output_type": "stream",
     "text": [
      "['Iron Man', '2010', 'Iron Man 2', '2011', 'Thor', '2011']\n",
      "['Captain America: The First Avenger', '1943', 'Iron Man', '2010']\n"
     ]
    }
   ],
   "source": [
    "# Print everything from a certain index\n",
    "\n",
    "print(movies[2:])\n",
    "\n",
    "# Print up to certain index\n",
    "\n",
    "print(movies[:4])"
   ]
  },
  {
   "cell_type": "markdown",
   "metadata": {},
   "source": [
    "We can also concatenate list with another string or another list, This doesn't actually change the list but there maybe times you need to print/use something like this in your code"
   ]
  },
  {
   "cell_type": "code",
   "execution_count": 2,
   "metadata": {},
   "outputs": [
    {
     "data": {
      "text/plain": [
       "['Captain America: The First Avenger',\n",
       " '1943',\n",
       " 'Iron Man',\n",
       " '2010',\n",
       " 'Iron Man 2',\n",
       " '2011',\n",
       " 'Thor',\n",
       " '2011',\n",
       " 'Batman']"
      ]
     },
     "execution_count": 2,
     "metadata": {},
     "output_type": "execute_result"
    }
   ],
   "source": [
    "movies + ['Batman']"
   ]
  },
  {
   "cell_type": "markdown",
   "metadata": {},
   "source": [
    "As we clearly know Batman doesn't belong in Marvel movies, we can print like this but if you want to add another Marvel movie in our list, here is an easy way:"
   ]
  },
  {
   "cell_type": "code",
   "execution_count": 3,
   "metadata": {},
   "outputs": [],
   "source": [
    "movies = movies + ['Avengers: End Game', 2019]"
   ]
  },
  {
   "cell_type": "code",
   "execution_count": 4,
   "metadata": {},
   "outputs": [
    {
     "data": {
      "text/plain": [
       "['Captain America: The First Avenger',\n",
       " '1943',\n",
       " 'Iron Man',\n",
       " '2010',\n",
       " 'Iron Man 2',\n",
       " '2011',\n",
       " 'Thor',\n",
       " '2011',\n",
       " 'Avengers: End Game',\n",
       " 2019]"
      ]
     },
     "execution_count": 4,
     "metadata": {},
     "output_type": "execute_result"
    }
   ],
   "source": [
    "# now lets check if we added End Game to our list or not\n",
    "movies"
   ]
  },
  {
   "cell_type": "markdown",
   "metadata": {},
   "source": [
    "## Basic List Methods\n",
    "\n",
    "If you are familiar with another programming language, you might start to draw parallels between arrays in another language and lists in Python. Lists in Python however, tend to be more flexible than arrays in other languages for a two good reasons: they have no fixed size (meaning we don't have to specify how big a list will be), and they have no fixed type constraint (like we've seen above).\n",
    "\n",
    "Let's go ahead and explore some more special methods for lists:"
   ]
  },
  {
   "cell_type": "code",
   "execution_count": 6,
   "metadata": {},
   "outputs": [
    {
     "name": "stdout",
     "output_type": "stream",
     "text": [
      "Before pop:  10\n",
      "\n",
      "After Pop:  9\n",
      "\n",
      "After Extend:  ['Captain America: The First Avenger', '1943', 'Iron Man', '2010', 'Iron Man 2', '2011', 'Thor', '2011', 'Avengers: End Game', '2011']\n",
      "\n",
      "After Insert:  ['Batman', 'Captain America: The First Avenger', '1943', 'Iron Man', '2010', 'Iron Man 2', '2011', 'Thor', '2011', 'Avengers: End Game', '2011']\n",
      "\n",
      "After Removal:  ['Captain America: The First Avenger', '1943', 'Iron Man', '2010', 'Iron Man 2', '2011', 'Thor', '2011', 'Avengers: End Game', '2011']\n"
     ]
    }
   ],
   "source": [
    "# Length\n",
    "print('Before pop: ',len(movies))\n",
    "\n",
    "# Remove last element\n",
    "movies.pop() \n",
    "print('\\nAfter Pop: ',len(movies))\n",
    "\n",
    "#Extend list to add new element\n",
    "movies.extend(['2011'])\n",
    "print('\\nAfter Extend: ',movies)\n",
    "\n",
    "# Insert at a specific index\n",
    "movies.insert(0,'Batman')\n",
    "print('\\nAfter Insert: ',movies)\n",
    "\n",
    "#Remove element by name\n",
    "movies.remove('Batman')\n",
    "print('\\nAfter Removal: ',movies)\n"
   ]
  },
  {
   "cell_type": "code",
   "execution_count": 10,
   "metadata": {},
   "outputs": [
    {
     "name": "stdout",
     "output_type": "stream",
     "text": [
      "['2011', 'Avengers: End Game', '2011', 'Thor', '2011', 'Iron Man 2', '2010', 'Iron Man', '1943', 'Captain America: The First Avenger'] after reversing\n",
      "After Sorting [1, 67, 71, 99, 188]\n"
     ]
    }
   ],
   "source": [
    "# sort() and reverse()\n",
    "# Yes Lists also have these functionalities in built\n",
    "\n",
    "#Reverse\n",
    "movies.reverse()\n",
    "print(f'{movies} after reversing')\n",
    "\n",
    "#Sort\n",
    "list1 = [99,188,71,1,67]\n",
    "list1.sort()\n",
    "print('After Sorting', list1)\n"
   ]
  },
  {
   "cell_type": "markdown",
   "metadata": {},
   "source": [
    "## Nesting Lists\n",
    "A great feature of of Python data structures is that they support *nesting*. This means we can have data structures within data structures. For example: A list inside a list.\n",
    "\n",
    "Let's see how this works!"
   ]
  },
  {
   "cell_type": "code",
   "execution_count": 11,
   "metadata": {},
   "outputs": [
    {
     "name": "stdout",
     "output_type": "stream",
     "text": [
      "Eric Idle\n"
     ]
    }
   ],
   "source": [
    "nested_movies = [\"The Holy Grail\", 1975, \"Terry Jones & Terry Gilliam\", 91,[\"Graham Chapman\",[\"Michael Palin\", \"John Cleese\", \"Terry Gilliam\", \"Eric Idle\", \"Terry Jones\"]]]\n",
    "print(nested_movies[4][1][3])"
   ]
  },
  {
   "cell_type": "markdown",
   "metadata": {},
   "source": [
    "### List Comprehensions\n",
    "Python has an advanced feature called list comprehensions. They allow for quick construction of lists. To fully understand list comprehensions we need to understand for loops. So don't worry if you don't completely understand this section, and feel free to just skip it since we will return to this topic later.\n",
    "\n",
    "But in case you want to know now, here are a few examples!"
   ]
  },
  {
   "cell_type": "code",
   "execution_count": 12,
   "metadata": {},
   "outputs": [
    {
     "ename": "TypeError",
     "evalue": "'int' object is not subscriptable",
     "output_type": "error",
     "traceback": [
      "\u001b[0;31m---------------------------------------------------------------------------\u001b[0m",
      "\u001b[0;31mTypeError\u001b[0m                                 Traceback (most recent call last)",
      "\u001b[0;32m<ipython-input-12-6b9cf98f8aa9>\u001b[0m in \u001b[0;36m<module>\u001b[0;34m\u001b[0m\n\u001b[0;32m----> 1\u001b[0;31m \u001b[0mnested_movies\u001b[0m \u001b[0;34m=\u001b[0m \u001b[0;34m[\u001b[0m\u001b[0mitem\u001b[0m\u001b[0;34m[\u001b[0m\u001b[0;36m0\u001b[0m\u001b[0;34m]\u001b[0m \u001b[0;32mfor\u001b[0m \u001b[0mitem\u001b[0m \u001b[0;32min\u001b[0m \u001b[0mnested_movies\u001b[0m\u001b[0;34m]\u001b[0m\u001b[0;34m\u001b[0m\u001b[0;34m\u001b[0m\u001b[0m\n\u001b[0m",
      "\u001b[0;32m<ipython-input-12-6b9cf98f8aa9>\u001b[0m in \u001b[0;36m<listcomp>\u001b[0;34m(.0)\u001b[0m\n\u001b[0;32m----> 1\u001b[0;31m \u001b[0mnested_movies\u001b[0m \u001b[0;34m=\u001b[0m \u001b[0;34m[\u001b[0m\u001b[0mitem\u001b[0m\u001b[0;34m[\u001b[0m\u001b[0;36m0\u001b[0m\u001b[0;34m]\u001b[0m \u001b[0;32mfor\u001b[0m \u001b[0mitem\u001b[0m \u001b[0;32min\u001b[0m \u001b[0mnested_movies\u001b[0m\u001b[0;34m]\u001b[0m\u001b[0;34m\u001b[0m\u001b[0;34m\u001b[0m\u001b[0m\n\u001b[0m",
      "\u001b[0;31mTypeError\u001b[0m: 'int' object is not subscriptable"
     ]
    }
   ],
   "source": []
  },
  {
   "cell_type": "code",
   "execution_count": 13,
   "metadata": {},
   "outputs": [],
   "source": [
    "# Let's make three lists\n",
    "lst_1=[1,2,3]\n",
    "lst_2=[4,5,6]\n",
    "lst_3=[7,8,9]\n",
    "\n",
    "# Make a list of lists to form a matrix\n",
    "matrix = [lst_1,lst_2,lst_3]"
   ]
  },
  {
   "cell_type": "code",
   "execution_count": 17,
   "metadata": {},
   "outputs": [
    {
     "data": {
      "text/plain": [
       "[1, 4, 7]"
      ]
     },
     "execution_count": 17,
     "metadata": {},
     "output_type": "execute_result"
    }
   ],
   "source": [
    "# first comprehension\n",
    "\n",
    "first_col = [row[0] for row in matrix]\n",
    "first_col"
   ]
  },
  {
   "cell_type": "markdown",
   "metadata": {},
   "source": [
    "For more details on lists check out [python](https://docs.python.org/3.7/tutorial/datastructures.html) original documentation."
   ]
  },
  {
   "cell_type": "code",
   "execution_count": null,
   "metadata": {},
   "outputs": [],
   "source": []
  }
 ],
 "metadata": {
  "kernelspec": {
   "display_name": "Python 3",
   "language": "python",
   "name": "python3"
  },
  "language_info": {
   "codemirror_mode": {
    "name": "ipython",
    "version": 3
   },
   "file_extension": ".py",
   "mimetype": "text/x-python",
   "name": "python",
   "nbconvert_exporter": "python",
   "pygments_lexer": "ipython3",
   "version": "3.7.1"
  }
 },
 "nbformat": 4,
 "nbformat_minor": 2
}
