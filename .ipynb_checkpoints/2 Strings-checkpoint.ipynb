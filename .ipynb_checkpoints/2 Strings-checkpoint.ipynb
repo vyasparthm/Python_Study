{
 "cells": [
  {
   "cell_type": "markdown",
   "metadata": {},
   "source": [
    "# Strings"
   ]
  },
  {
   "cell_type": "markdown",
   "metadata": {},
   "source": [
    "Strings are used in Python to record text information, such as names. Strings in Python are actually a *sequence*, which basically means Python keeps track of every element in the string as a sequence. For example, Python understands the string \"hello' to be a sequence of letters in a specific order. Good news is: we will be able to use indexing to grab particular letters (like the first letter, or the last letter).\n",
    "\n",
    "This idea of a sequence is an important one in Python and we will touch upon it later on in the future.\n",
    "\n",
    "In this notebook we'll learn about the following:\n",
    "\n",
    "    1. Creating Strings\n",
    "    2. Printing Strings\n",
    "    3. String Indexing and Slicing\n",
    "    4. String Properties\n",
    "    5. String Methods\n",
    "    6. Print Formatting"
   ]
  },
  {
   "cell_type": "markdown",
   "metadata": {},
   "source": [
    "## Creating a String\n",
    "\n",
    "To create a string Python uses single('') or double(\"\") quotes."
   ]
  },
  {
   "cell_type": "code",
   "execution_count": 2,
   "metadata": {},
   "outputs": [
    {
     "data": {
      "text/plain": [
       "'Hello World!!'"
      ]
     },
     "execution_count": 2,
     "metadata": {},
     "output_type": "execute_result"
    }
   ],
   "source": [
    "# First String\n",
    "\n",
    "'Hello World!!' # Its customary to print \"Hello World!!\" as your first string in any language"
   ]
  },
  {
   "cell_type": "code",
   "execution_count": 3,
   "metadata": {},
   "outputs": [
    {
     "data": {
      "text/plain": [
       "'Hello World!!'"
      ]
     },
     "execution_count": 3,
     "metadata": {},
     "output_type": "execute_result"
    }
   ],
   "source": [
    "\"Hello World!!\" # Hello World in Double Quotes"
   ]
  },
  {
   "cell_type": "markdown",
   "metadata": {},
   "source": [
    "## String Basics"
   ]
  },
  {
   "cell_type": "code",
   "execution_count": 7,
   "metadata": {},
   "outputs": [
    {
     "ename": "SyntaxError",
     "evalue": "invalid syntax (<ipython-input-7-20a5a8a9e335>, line 4)",
     "output_type": "error",
     "traceback": [
      "\u001b[0;36m  File \u001b[0;32m\"<ipython-input-7-20a5a8a9e335>\"\u001b[0;36m, line \u001b[0;32m4\u001b[0m\n\u001b[0;31m    'This is my string and my name's parth'\u001b[0m\n\u001b[0m                                   ^\u001b[0m\n\u001b[0;31mSyntaxError\u001b[0m\u001b[0;31m:\u001b[0m invalid syntax\n"
     ]
    }
   ],
   "source": [
    "# we have to be very careful with quotes, if you have a quote in your string, it could confuse python into\n",
    "# thinking that you meant end of string\n",
    "\n",
    "'This is my string and my name's parth'"
   ]
  },
  {
   "cell_type": "code",
   "execution_count": 9,
   "metadata": {},
   "outputs": [
    {
     "data": {
      "text/plain": [
       "\"This is my string and my name's Parth\""
      ]
     },
     "execution_count": 9,
     "metadata": {},
     "output_type": "execute_result"
    }
   ],
   "source": [
    "# for something like this we need to use double quotes to tell python about REAL string\n",
    "\n",
    "\"This is my string and my name's Parth\""
   ]
  },
  {
   "cell_type": "code",
   "execution_count": 12,
   "metadata": {},
   "outputs": [
    {
     "name": "stdout",
     "output_type": "stream",
     "text": [
      "Basic string\n",
      "Basic\n",
      "String With a NEW LINE\n",
      "Basic\tstring With TAB\n"
     ]
    }
   ],
   "source": [
    "# We can also use a print statement to print a string(actually anything!)\n",
    "# We will also see some basic manipulation like new line, tab and some formatting in this cell\n",
    "\n",
    "print('Basic string')\n",
    "print('Basic\\nString With a NEW LINE')\n",
    "print('Basic\\tstring With TAB')\n",
    "\n",
    "# This might seem a minor feature but trust me it helps to format like this, espescially while you are\n",
    "# debugging"
   ]
  },
  {
   "cell_type": "code",
   "execution_count": 33,
   "metadata": {},
   "outputs": [
    {
     "name": "stdout",
     "output_type": "stream",
     "text": [
      "13\n",
      "HELLO WORLD!!\n",
      "hello world!!\n",
      "Split with space:  ['Hello', 'World!!']\n",
      "Splitted IP address String:  ['127', '0', '0', '1']\n"
     ]
    }
   ],
   "source": [
    "# Lets take a look at a few methods we can use\n",
    "\n",
    "my_string = 'Hello World!!'\n",
    "\n",
    "print(len(my_string)) # to count the number of characters in string, including spaces. Starts from 0 --> n\n",
    "print(my_string.upper()) # to convert string into UPPER CASE\n",
    "print(my_string.lower()) # to convert string into lower case\n",
    "print('Split with space: ',my_string.split()) # Split string by blank space\n",
    "\n",
    "# you can also split by a specific pattern/word\n",
    "ip_address = '127.0.0.1'\n",
    "print('Splitted IP address String: ', ip_address.split('.'))"
   ]
  },
  {
   "cell_type": "markdown",
   "metadata": {},
   "source": [
    "## String Indexing\n",
    "As mentioned earlier, strings are a **sequence**, which means Python can use indexes to call parts of the sequence. Let's see how this works.\n",
    "\n",
    "In Python, we use brackets <code>[]</code> after an object to call its index. We should also note that indexing starts at 0 for Python. Let's create a new object called <code>new_string</code> and then walk through a few examples of indexing."
   ]
  },
  {
   "cell_type": "code",
   "execution_count": 16,
   "metadata": {},
   "outputs": [
    {
     "name": "stdout",
     "output_type": "stream",
     "text": [
      "Hello World!!\n"
     ]
    }
   ],
   "source": [
    "new_string = 'Hello World!!'\n",
    "print(new_string)"
   ]
  },
  {
   "cell_type": "code",
   "execution_count": 24,
   "metadata": {},
   "outputs": [
    {
     "name": "stdout",
     "output_type": "stream",
     "text": [
      "First element:  H\n",
      "Till 4th element:  Hel\n",
      "From 1 to 4:  ell\n",
      "Last element:  !\n",
      "Reverse:  !!dlroW olleH\n",
      "Step Size 1:  Hello World!!\n",
      "Step Size 2:  HloWrd!\n"
     ]
    }
   ],
   "source": [
    "# Now lets start indexing\n",
    "\n",
    "print('First element: ',new_string[0]) # We can access string element by using [] and number of index\n",
    "\n",
    "print('Till 4th element: ',new_string[:3]) # to print elements 0 to 3\n",
    "\n",
    "print('From 1 to 4: ',new_string[1:4]) # to print elements 1 to 4\n",
    "\n",
    "print('Last element: ',new_string[-1]) # to print backwards, we can also use this to reverse a string\n",
    "\n",
    "print('Reverse: ',new_string[::-1])\n",
    "\n",
    "print('Step Size 1: ',new_string[::1]) # print Everything\n",
    "\n",
    "print('Step Size 2: ',new_string[::2]) # print everything but with a step size 2"
   ]
  },
  {
   "cell_type": "markdown",
   "metadata": {},
   "source": [
    "## String Properties\n",
    "It's important to note that strings have an important property known as **immutability**. This means that once a string is created, the elements within it can not be changed or replaced. For example:"
   ]
  },
  {
   "cell_type": "code",
   "execution_count": 25,
   "metadata": {},
   "outputs": [
    {
     "ename": "TypeError",
     "evalue": "'str' object does not support item assignment",
     "output_type": "error",
     "traceback": [
      "\u001b[0;31m---------------------------------------------------------------------------\u001b[0m",
      "\u001b[0;31mTypeError\u001b[0m                                 Traceback (most recent call last)",
      "\u001b[0;32m<ipython-input-25-e7d2d9b26d2c>\u001b[0m in \u001b[0;36m<module>\u001b[0;34m\u001b[0m\n\u001b[0;32m----> 1\u001b[0;31m \u001b[0mnew_string\u001b[0m\u001b[0;34m[\u001b[0m\u001b[0;36m0\u001b[0m\u001b[0;34m]\u001b[0m \u001b[0;34m=\u001b[0m \u001b[0;34m'P'\u001b[0m\u001b[0;34m\u001b[0m\u001b[0;34m\u001b[0m\u001b[0m\n\u001b[0m",
      "\u001b[0;31mTypeError\u001b[0m: 'str' object does not support item assignment"
     ]
    }
   ],
   "source": [
    "new_string[0] = 'P'"
   ]
  },
  {
   "cell_type": "code",
   "execution_count": 28,
   "metadata": {},
   "outputs": [
    {
     "name": "stdout",
     "output_type": "stream",
     "text": [
      "Hello World!!I am Python\n"
     ]
    }
   ],
   "source": [
    "# Concatenation\n",
    "\n",
    "new_string = new_string + 'I am Python'\n",
    "\n",
    "print(new_string)"
   ]
  },
  {
   "cell_type": "code",
   "execution_count": 34,
   "metadata": {},
   "outputs": [
    {
     "name": "stdout",
     "output_type": "stream",
     "text": [
      "zzzzz\n"
     ]
    }
   ],
   "source": [
    "# Lets say you want to print something 5 times, we can multiply string with itself\n",
    "\n",
    "a = 'z'\n",
    "\n",
    "print(a*5)"
   ]
  },
  {
   "cell_type": "code",
   "execution_count": 35,
   "metadata": {},
   "outputs": [
    {
     "data": {
      "text/plain": [
       "'Insert another string with curly brackets: The inserted string'"
      ]
     },
     "execution_count": 35,
     "metadata": {},
     "output_type": "execute_result"
    }
   ],
   "source": [
    "# one last thing for formatting\n",
    "\n",
    "'Insert another string with curly brackets: {}'.format('The inserted string')"
   ]
  },
  {
   "cell_type": "markdown",
   "metadata": {},
   "source": [
    "#### So this was basic idea about strings in python. There are many more things we can do with strings, if you are more interested, take a look at python original documentation here:\n",
    "\n",
    "https://docs.python.org/3.7/library/string.html\n",
    "\n",
    "I will be doing one more notebook on Print formatting with strings. Take a look at the repo please.\n",
    "Thank you [python](https://www.python.org/) and [GeeksforGeeks](https://www.geeksforgeeks.org/)"
   ]
  },
  {
   "cell_type": "markdown",
   "metadata": {},
   "source": [
    "# String Formatting\n",
    "\n",
    "In Python, String formatting lets us inject items into a string rather than trying to chain items together using commas or string concatenation. Lets take a quick look at below example\n",
    "\n",
    "    player = 'Zlatan'\n",
    "    goals =  35\n",
    "    \n",
    "    'Last night, '+player+' reached '+str(goals)+' goals in EPL.'  # concatenation\n",
    "    \n",
    "    f'Last night, {player} reached {goals} goals in EPL.'          # string formatting\n",
    "\n",
    "\n",
    "There are three ways to perform string formatting.\n",
    "* The oldest method involves placeholders using the modulo `%` character.\n",
    "* An improved technique uses the `.format()` string method.\n",
    "* The newest method, introduced with Python 3.6, uses formatted string literals, called *f-strings*.\n",
    "\n",
    "Since you will likely encounter all three versions in someone else's code, I will describe each of them here."
   ]
  },
  {
   "cell_type": "markdown",
   "metadata": {},
   "source": [
    "## Formatting with placeholders\n",
    "You can use <code>%s</code> to inject strings into your print statements. The modulo `%` is referred to as a **\"string formatting operator\"**."
   ]
  },
  {
   "cell_type": "code",
   "execution_count": 6,
   "metadata": {},
   "outputs": [
    {
     "name": "stdout",
     "output_type": "stream",
     "text": [
      "I'm going to inject Random Thing here\n"
     ]
    }
   ],
   "source": [
    "# Simple demo of %s\n",
    "\n",
    "print(\"I'm going to inject %s here\" %'Random Thing')"
   ]
  },
  {
   "cell_type": "code",
   "execution_count": 11,
   "metadata": {},
   "outputs": [
    {
     "name": "stdout",
     "output_type": "stream",
     "text": [
      "I'm going to place (1): First Insert and (2): Second Insert here\n",
      "\n",
      "Example with variables:\n",
      "Last night Zlatan reached 35 golas in EPL\n"
     ]
    }
   ],
   "source": [
    "# We can also pass multiple items(in order) by using %s\n",
    "\n",
    "print(\"I'm going to place (1): %s and (2): %s here\" %('First Insert','Second Insert'))\n",
    "\n",
    "# We can also pass variables like this\n",
    "\n",
    "player, goals = 'Zlatan', 35\n",
    "print('\\nExample with variables:')\n",
    "print('Last night %s reached %s golas in EPL'%(player,goals))"
   ]
  },
  {
   "cell_type": "markdown",
   "metadata": {},
   "source": [
    "### Format conversion methods.\n",
    "It should be noted that two methods <code>%s</code> and <code>%r</code> convert any python object to a string using two separate methods: `str()` and `repr()`. You should note that `%r` and `repr()` deliver the *string representation* of the object, including quotation marks and any escape characters.\n",
    "\n",
    "There are also a few more differences between these two:\n",
    "\n",
    "1. **str() is used for creating output for end user while repr() is mainly used for debugging and development. repr’s goal is to be unambiguous and str’s is to be readable. For example, if we suspect a float has a small rounding error, repr will show us while str may not.**\n",
    "2. repr() compute the [“official” string representation](https://docs.python.org/3/reference/datamodel.html#object.__repr__) of an object (a representation that has all information about the abject) and str() is used to compute the [“informal” string representation](http://docs.python.org/reference/datamodel.html#object.__str__) of an object (a representation that is useful for printing the object).\n",
    "3. The print statement and str() built-in function uses __str__ to display the string representation of the object while the repr() built-in function uses __repr__ to display the object.\n"
   ]
  },
  {
   "cell_type": "code",
   "execution_count": 22,
   "metadata": {},
   "outputs": [
    {
     "name": "stdout",
     "output_type": "stream",
     "text": [
      "With str(): His first name is Agent\n",
      "With repr(): His first name is 'Agent' # Did you notice the Quote appearing on Agent?\n",
      "\n",
      "\n",
      "With str():  2020-01-28 19:28:03.865611\n",
      "With repr():  datetime.datetime(2020, 1, 28, 19, 28, 3, 865684)\n"
     ]
    }
   ],
   "source": [
    "# Lets print basic sample using %s and %r first then I will show the difference\n",
    "\n",
    "print(\"With str(): His first name is %s\" %'Agent')\n",
    "print(\"With repr(): His first name is %r\" %'Agent','# Did you notice the Quote appearing on Agent?') \n",
    "\n",
    "# Lets do some more digging and see actual difference\n",
    "\n",
    "import datetime as dt\n",
    "print('\\n')\n",
    "print ('With str(): ',str(dt.datetime.now()))\n",
    "print('With repr(): ', repr(dt.datetime.now()))\n",
    "\n",
    "# as we saw above \\t inserts a tab, try it with str() and repr() and see what happens"
   ]
  },
  {
   "cell_type": "markdown",
   "metadata": {},
   "source": [
    "The `%s` operator converts whatever it sees into a string, including integers and floats. The `%d` operator converts numbers to integers first, without rounding. See the difference below:"
   ]
  },
  {
   "cell_type": "code",
   "execution_count": 24,
   "metadata": {},
   "outputs": [
    {
     "name": "stdout",
     "output_type": "stream",
     "text": [
      "I wrote 200.5 lines of code today\n",
      "I wrote 200 lines of code today\n"
     ]
    }
   ],
   "source": [
    "print(\"I wrote %s lines of code today\" %200.5)\n",
    "print(\"I wrote %d lines of code today\" %200.5)"
   ]
  },
  {
   "cell_type": "markdown",
   "metadata": {},
   "source": [
    "### Padding and Precision of Floating Point Numbers\n",
    "\n",
    "Floating point numbers use the format <code>%5.2f</code>. Here, <code>5</code> would be the minimum number of characters the string should contain; these may be padded with whitespace if the entire number does not have this many digits. Next to this, <code>.2f</code> stands for how many numbers to show past the decimal point. Let's see some examples:"
   ]
  },
  {
   "cell_type": "code",
   "execution_count": 30,
   "metadata": {},
   "outputs": [
    {
     "name": "stdout",
     "output_type": "stream",
     "text": [
      "Floating point numbers: 13.14\n",
      "\n",
      "Floating point numbers: 13.1\n",
      "\n",
      "Floating point numbers: 13.1440000\n",
      "\n",
      "Floating point numbers:        13.14\n"
     ]
    }
   ],
   "source": [
    "print('Floating point numbers: %5.2f' %(13.144))\n",
    "print('\\nFloating point numbers: %1.1f' %(13.144))\n",
    "print('\\nFloating point numbers: %1.7f' %(13.144)) # Padding extra zeros, helpful when you need some level of precision\n",
    "print('\\nFloating point numbers: %12.2f' %(13.144))"
   ]
  },
  {
   "cell_type": "markdown",
   "metadata": {},
   "source": [
    "### Multiple Formatting\n",
    "Python is so awesome that Nothing prohibits it using more than one conversion tool in the same print statement:"
   ]
  },
  {
   "cell_type": "code",
   "execution_count": 33,
   "metadata": {},
   "outputs": [
    {
     "name": "stdout",
     "output_type": "stream",
     "text": [
      "My name is: Steve Rogers AKA Captain America and I am  1'st avenger!\n"
     ]
    }
   ],
   "source": [
    "print(\"My name is: %s AKA %s and I am  %d'st avenger!\"%('Steve Rogers','Captain America',1.0))"
   ]
  },
  {
   "cell_type": "markdown",
   "metadata": {},
   "source": [
    "## Formatting with the `.format()` method\n",
    "A better way to format objects into your strings for print statements is with the string `.format()` method. The syntax is:\n",
    "\n",
    "    'Hogan, {}. Cheeseburger {}'.format('drive','first')\n",
    "*This is a line from Iron Man by the way!*\n",
    "\n",
    "For example:"
   ]
  },
  {
   "cell_type": "code",
   "execution_count": 36,
   "metadata": {},
   "outputs": [
    {
     "name": "stdout",
     "output_type": "stream",
     "text": [
      "And Thor said: Hulk, SMASH!!\n"
     ]
    }
   ],
   "source": [
    "print(\"And Thor said: Hulk, {}\".format('SMASH!!'))"
   ]
  },
  {
   "cell_type": "markdown",
   "metadata": {},
   "source": [
    "### The .format() method has several advantages over the %s placeholder method:"
   ]
  },
  {
   "cell_type": "markdown",
   "metadata": {},
   "source": [
    "#### 1. Inserted objects can be called by index position:"
   ]
  },
  {
   "cell_type": "code",
   "execution_count": 38,
   "metadata": {},
   "outputs": [
    {
     "name": "stdout",
     "output_type": "stream",
     "text": [
      "Captain America: The First Avenger\n"
     ]
    }
   ],
   "source": [
    "print('Captain America: {1} {2} {0}'.format('Avenger','The','First'))"
   ]
  },
  {
   "cell_type": "code",
   "execution_count": null,
   "metadata": {},
   "outputs": [],
   "source": []
  }
 ],
 "metadata": {
  "kernelspec": {
   "display_name": "Python 3",
   "language": "python",
   "name": "python3"
  },
  "language_info": {
   "codemirror_mode": {
    "name": "ipython",
    "version": 3
   },
   "file_extension": ".py",
   "mimetype": "text/x-python",
   "name": "python",
   "nbconvert_exporter": "python",
   "pygments_lexer": "ipython3",
   "version": "3.7.1"
  }
 },
 "nbformat": 4,
 "nbformat_minor": 2
}
