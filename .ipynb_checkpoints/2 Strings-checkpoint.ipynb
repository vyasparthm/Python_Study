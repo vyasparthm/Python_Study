{
 "cells": [
  {
   "cell_type": "markdown",
   "metadata": {},
   "source": [
    "# Strings"
   ]
  },
  {
   "cell_type": "markdown",
   "metadata": {},
   "source": [
    "Strings are used in Python to record text information, such as names. Strings in Python are actually a *sequence*, which basically means Python keeps track of every element in the string as a sequence. For example, Python understands the string \"hello' to be a sequence of letters in a specific order. Good news is: we will be able to use indexing to grab particular letters (like the first letter, or the last letter).\n",
    "\n",
    "This idea of a sequence is an important one in Python and we will touch upon it later on in the future.\n",
    "\n",
    "In this notebook we'll learn about the following:\n",
    "\n",
    "    1. Creating Strings\n",
    "    2. Printing Strings\n",
    "    3. String Indexing and Slicing\n",
    "    4. String Properties\n",
    "    5. String Methods\n",
    "    6. Print Formatting"
   ]
  },
  {
   "cell_type": "markdown",
   "metadata": {},
   "source": [
    "## Creating a String\n",
    "\n",
    "To create a string Python uses single('') or double(\"\") quotes."
   ]
  },
  {
   "cell_type": "code",
   "execution_count": 2,
   "metadata": {},
   "outputs": [
    {
     "data": {
      "text/plain": [
       "'Hello World!!'"
      ]
     },
     "execution_count": 2,
     "metadata": {},
     "output_type": "execute_result"
    }
   ],
   "source": [
    "# First String\n",
    "\n",
    "'Hello World!!' # Its customary to print \"Hello World!!\" as your first string in any language"
   ]
  },
  {
   "cell_type": "code",
   "execution_count": 3,
   "metadata": {},
   "outputs": [
    {
     "data": {
      "text/plain": [
       "'Hello World!!'"
      ]
     },
     "execution_count": 3,
     "metadata": {},
     "output_type": "execute_result"
    }
   ],
   "source": [
    "\"Hello World!!\" # Hello World in Double Quotes"
   ]
  },
  {
   "cell_type": "markdown",
   "metadata": {},
   "source": [
    "## String Basics"
   ]
  },
  {
   "cell_type": "code",
   "execution_count": 7,
   "metadata": {},
   "outputs": [
    {
     "ename": "SyntaxError",
     "evalue": "invalid syntax (<ipython-input-7-20a5a8a9e335>, line 4)",
     "output_type": "error",
     "traceback": [
      "\u001b[0;36m  File \u001b[0;32m\"<ipython-input-7-20a5a8a9e335>\"\u001b[0;36m, line \u001b[0;32m4\u001b[0m\n\u001b[0;31m    'This is my string and my name's parth'\u001b[0m\n\u001b[0m                                   ^\u001b[0m\n\u001b[0;31mSyntaxError\u001b[0m\u001b[0;31m:\u001b[0m invalid syntax\n"
     ]
    }
   ],
   "source": [
    "# we have to be very careful with quotes, if you have a quote in your string, it could confuse python into\n",
    "# thinking that you meant end of string\n",
    "\n",
    "'This is my string and my name's parth'"
   ]
  },
  {
   "cell_type": "code",
   "execution_count": 9,
   "metadata": {},
   "outputs": [
    {
     "data": {
      "text/plain": [
       "\"This is my string and my name's Parth\""
      ]
     },
     "execution_count": 9,
     "metadata": {},
     "output_type": "execute_result"
    }
   ],
   "source": [
    "# for something like this we need to use double quotes to tell python about REAL string\n",
    "\n",
    "\"This is my string and my name's Parth\""
   ]
  },
  {
   "cell_type": "code",
   "execution_count": 12,
   "metadata": {},
   "outputs": [
    {
     "name": "stdout",
     "output_type": "stream",
     "text": [
      "Basic string\n",
      "Basic\n",
      "String With a NEW LINE\n",
      "Basic\tstring With TAB\n"
     ]
    }
   ],
   "source": [
    "# We can also use a print statement to print a string(actually anything!)\n",
    "# We will also see some basic manipulation like new line, tab and some formatting in this cell\n",
    "\n",
    "print('Basic string')\n",
    "print('Basic\\nString With a NEW LINE')\n",
    "print('Basic\\tstring With TAB')\n",
    "\n",
    "# This might seem a minor feature but trust me it helps to format like this, espescially while you are\n",
    "# debugging"
   ]
  },
  {
   "cell_type": "code",
   "execution_count": 33,
   "metadata": {},
   "outputs": [
    {
     "name": "stdout",
     "output_type": "stream",
     "text": [
      "13\n",
      "HELLO WORLD!!\n",
      "hello world!!\n",
      "Split with space:  ['Hello', 'World!!']\n",
      "Splitted IP address String:  ['127', '0', '0', '1']\n"
     ]
    }
   ],
   "source": [
    "# Lets take a look at a few methods we can use\n",
    "\n",
    "my_string = 'Hello World!!'\n",
    "\n",
    "print(len(my_string)) # to count the number of characters in string, including spaces. Starts from 0 --> n\n",
    "print(my_string.upper()) # to convert string into UPPER CASE\n",
    "print(my_string.lower()) # to convert string into lower case\n",
    "print('Split with space: ',my_string.split()) # Split string by blank space\n",
    "\n",
    "# you can also split by a specific pattern/word\n",
    "ip_address = '127.0.0.1'\n",
    "print('Splitted IP address String: ', ip_address.split('.'))"
   ]
  },
  {
   "cell_type": "markdown",
   "metadata": {},
   "source": [
    "## String Indexing\n",
    "As mentioned earlier, strings are a **sequence**, which means Python can use indexes to call parts of the sequence. Let's see how this works.\n",
    "\n",
    "In Python, we use brackets <code>[]</code> after an object to call its index. We should also note that indexing starts at 0 for Python. Let's create a new object called <code>new_string</code> and then walk through a few examples of indexing."
   ]
  },
  {
   "cell_type": "code",
   "execution_count": 16,
   "metadata": {},
   "outputs": [
    {
     "name": "stdout",
     "output_type": "stream",
     "text": [
      "Hello World!!\n"
     ]
    }
   ],
   "source": [
    "new_string = 'Hello World!!'\n",
    "print(new_string)"
   ]
  },
  {
   "cell_type": "code",
   "execution_count": 24,
   "metadata": {},
   "outputs": [
    {
     "name": "stdout",
     "output_type": "stream",
     "text": [
      "First element:  H\n",
      "Till 4th element:  Hel\n",
      "From 1 to 4:  ell\n",
      "Last element:  !\n",
      "Reverse:  !!dlroW olleH\n",
      "Step Size 1:  Hello World!!\n",
      "Step Size 2:  HloWrd!\n"
     ]
    }
   ],
   "source": [
    "# Now lets start indexing\n",
    "\n",
    "print('First element: ',new_string[0]) # We can access string element by using [] and number of index\n",
    "\n",
    "print('Till 4th element: ',new_string[:3]) # to print elements 0 to 3\n",
    "\n",
    "print('From 1 to 4: ',new_string[1:4]) # to print elements 1 to 4\n",
    "\n",
    "print('Last element: ',new_string[-1]) # to print backwards, we can also use this to reverse a string\n",
    "\n",
    "print('Reverse: ',new_string[::-1])\n",
    "\n",
    "print('Step Size 1: ',new_string[::1]) # print Everything\n",
    "\n",
    "print('Step Size 2: ',new_string[::2]) # print everything but with a step size 2"
   ]
  },
  {
   "cell_type": "markdown",
   "metadata": {},
   "source": [
    "## String Properties\n",
    "It's important to note that strings have an important property known as **immutability**. This means that once a string is created, the elements within it can not be changed or replaced. For example:"
   ]
  },
  {
   "cell_type": "code",
   "execution_count": 25,
   "metadata": {},
   "outputs": [
    {
     "ename": "TypeError",
     "evalue": "'str' object does not support item assignment",
     "output_type": "error",
     "traceback": [
      "\u001b[0;31m---------------------------------------------------------------------------\u001b[0m",
      "\u001b[0;31mTypeError\u001b[0m                                 Traceback (most recent call last)",
      "\u001b[0;32m<ipython-input-25-e7d2d9b26d2c>\u001b[0m in \u001b[0;36m<module>\u001b[0;34m\u001b[0m\n\u001b[0;32m----> 1\u001b[0;31m \u001b[0mnew_string\u001b[0m\u001b[0;34m[\u001b[0m\u001b[0;36m0\u001b[0m\u001b[0;34m]\u001b[0m \u001b[0;34m=\u001b[0m \u001b[0;34m'P'\u001b[0m\u001b[0;34m\u001b[0m\u001b[0;34m\u001b[0m\u001b[0m\n\u001b[0m",
      "\u001b[0;31mTypeError\u001b[0m: 'str' object does not support item assignment"
     ]
    }
   ],
   "source": [
    "new_string[0] = 'P'"
   ]
  },
  {
   "cell_type": "code",
   "execution_count": 28,
   "metadata": {},
   "outputs": [
    {
     "name": "stdout",
     "output_type": "stream",
     "text": [
      "Hello World!!I am Python\n"
     ]
    }
   ],
   "source": [
    "# Concatenation\n",
    "\n",
    "new_string = new_string + 'I am Python'\n",
    "\n",
    "print(new_string)"
   ]
  },
  {
   "cell_type": "code",
   "execution_count": 34,
   "metadata": {},
   "outputs": [
    {
     "name": "stdout",
     "output_type": "stream",
     "text": [
      "zzzzz\n"
     ]
    }
   ],
   "source": [
    "# Lets say you want to print something 5 times, we can multiply string with itself\n",
    "\n",
    "a = 'z'\n",
    "\n",
    "print(a*5)"
   ]
  },
  {
   "cell_type": "code",
   "execution_count": 35,
   "metadata": {},
   "outputs": [
    {
     "data": {
      "text/plain": [
       "'Insert another string with curly brackets: The inserted string'"
      ]
     },
     "execution_count": 35,
     "metadata": {},
     "output_type": "execute_result"
    }
   ],
   "source": [
    "# one last thing for formatting\n",
    "\n",
    "'Insert another string with curly brackets: {}'.format('The inserted string')"
   ]
  },
  {
   "cell_type": "markdown",
   "metadata": {},
   "source": [
    "#### So this was basic idea about strings in python. There are many more things we can do with strings, if you are more interested, take a look at python original documentation her:\n",
    "\n",
    "https://docs.python.org/3.6/library/string.html"
   ]
  },
  {
   "cell_type": "code",
   "execution_count": null,
   "metadata": {},
   "outputs": [],
   "source": []
  }
 ],
 "metadata": {
  "kernelspec": {
   "display_name": "Python 3",
   "language": "python",
   "name": "python3"
  },
  "language_info": {
   "codemirror_mode": {
    "name": "ipython",
    "version": 3
   },
   "file_extension": ".py",
   "mimetype": "text/x-python",
   "name": "python",
   "nbconvert_exporter": "python",
   "pygments_lexer": "ipython3",
   "version": "3.7.1"
  }
 },
 "nbformat": 4,
 "nbformat_minor": 2
}
