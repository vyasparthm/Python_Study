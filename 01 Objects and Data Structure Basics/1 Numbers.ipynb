{
 "cells": [
  {
   "cell_type": "markdown",
   "metadata": {},
   "source": [
    "### Numbers in Python!\n",
    "\n",
    "In this Notebook, I will demonstrate about numbers in Python and how to use them.\n",
    "\n",
    "I am covering a few of the topics: \n",
    "\n",
    "1. Types of Numbers in Python\n",
    "2. Basic Arithmetic\n",
    "3. Differences between classic division and floor division\n",
    "4. Object Assignment in Python"
   ]
  },
  {
   "cell_type": "markdown",
   "metadata": {},
   "source": [
    "## Types of Numbers\n",
    "\n",
    "Although Python has different types of numbers, Lets focus on integers and floating point numbers.\n",
    "\n",
    "Integers are just whole numbers, positive or negative. For example: 2 and -2 are examples of integers.\n",
    "\n",
    "Floating point numbers in Python are notable because they have a decimal point in them, or use an exponential (e) to define the number. For example 2.0 and -2.1 are examples of floating point numbers. 4E2 (4 times 10 to the power of 2) is also an example of a floating point number in Python.\n",
    "\n",
    "Throughout this course we will be mainly working with integers or simple float number types.\n",
    "\n",
    "Here is a table of the two main types we will spend most of our time working with some examples:\n",
    "\n",
    "<table>\n",
    "<tr>\n",
    "    <th>Examples</th> \n",
    "    <th>Number \"Type\"</th>\n",
    "</tr>\n",
    "\n",
    "<tr>\n",
    "    <td>1,2,-5,1000</td>\n",
    "    <td>Integers</td> \n",
    "</tr>\n",
    "\n",
    "<tr>\n",
    "    <td>1.2,-0.5,2e2,3E2</td> \n",
    "    <td>Floating-point numbers</td> \n",
    "</tr>\n",
    " </table>\n",
    " \n",
    " Now let's start with some basic airthmatic."
   ]
  },
  {
   "cell_type": "markdown",
   "metadata": {},
   "source": [
    "### Basic Airthmatic"
   ]
  },
  {
   "cell_type": "code",
   "execution_count": null,
   "metadata": {},
   "outputs": [],
   "source": [
    "# Adition: Like any other language python utilizes (+) operator for addition of two numbers\n",
    "\n",
    "print('Addition of integers: ' , 1+2)\n",
    "print('Addition of Floating Point numbers: ',1.0+2.5)\n",
    "\n",
    "### NOTE: As we know,there is no need to tell python of data type. Python is smart enough to figure it out!!!"
   ]
  },
  {
   "cell_type": "code",
   "execution_count": null,
   "metadata": {},
   "outputs": [],
   "source": [
    "# Subtraction: Like any other language python utilizes (-) operator for subtraction of two numbers\n",
    "\n",
    "print('Subtraction of integers: ', 3-2)\n",
    "print('Subtraction of Floating Point numbers: ', 4.6 - 3.2) # This will give a lot of decimal places\n",
    "# to limit the numbers after decimal we can use round() to get desired result\n",
    "\n",
    "print('Subtraction of Floating Point numbers with Rounding: ', round((4.6 - 3.2),3)) # This will round the number to the nearest decimal"
   ]
  },
  {
   "cell_type": "code",
   "execution_count": null,
   "metadata": {},
   "outputs": [],
   "source": [
    "# Multiplication: Like any other language python utilizes (*) operator for multiplication of two numbers\n",
    "\n",
    "print('Multiplication of 2 integers: ', 4*3)\n",
    "print('Multiplication of two floating point numbers: ', 3.5*2.1)\n",
    "print('Multiplication of two floating point numbers with rounding: ', round(3.5*2.1,2))"
   ]
  },
  {
   "cell_type": "code",
   "execution_count": null,
   "metadata": {},
   "outputs": [],
   "source": [
    "# Division: Like any other language python utilizes (/) operator for division of two numbers\n",
    "\n",
    "print('Division of two integers: ', 5/2)\n",
    "print('Division of floating point numbers: ', 5.6 / 2.1)\n",
    "print('Division of floating point numbers with rounding: ', round(5.6/2.1,2))"
   ]
  },
  {
   "cell_type": "code",
   "execution_count": null,
   "metadata": {},
   "outputs": [],
   "source": [
    "# Floor Division: This division is used when you want just an integer part of the result. Python utilizes (//) for this purpose.\n",
    "\n",
    "print('Without Floor Division: ', 7/3)\n",
    "print('With Floor Division: ',7//3)\n",
    "\n",
    "# And if we just want the Remainder part from this calculation, we can use (%) operator\n",
    "\n",
    "print('Result with Modulo(%) Operator: ', 7%3)"
   ]
  },
  {
   "cell_type": "code",
   "execution_count": null,
   "metadata": {},
   "outputs": [],
   "source": [
    "# Powers: For power of a number python uses (**) \n",
    "\n",
    "print('2 Square is: ', 2**2)\n",
    "print('2 Cube is: ', 2**3)"
   ]
  },
  {
   "cell_type": "code",
   "execution_count": null,
   "metadata": {},
   "outputs": [],
   "source": [
    "# Roots: Same way as  Powers we can find squrt of a number in python and also there is a Math module, which provides a \n",
    "#        method named (sqrt)\n",
    "\n",
    "print('Root of 4 is: ', 4**0.5)\n",
    "import math as m # Import module and just aliasing it as m so its easier to use later.\n",
    "print('Root of 4 by method: ', m.sqrt(4))"
   ]
  },
  {
   "cell_type": "markdown",
   "metadata": {},
   "source": [
    "#### Below table describes precedence of operations in python, where Priority 0 means the first operation and the higher the number the lesser priority the operation gets.\n",
    "<table>\n",
    "<style>\n",
    "td {\n",
    "  font-size: 80px\n",
    "}\n",
    "</style>\n",
    "<tr>\n",
    "    <th>Precedence</th> \n",
    "    <th>Operator</th>\n",
    "    <th>Name</th>\n",
    "</tr>\n",
    "\n",
    "<tr>\n",
    "    <td>0</td>\n",
    "    <td>()</td> \n",
    "    <td>Parentheses</td> \n",
    "</tr>\n",
    "<tr>\n",
    "    <td>1</td>\n",
    "    <td>**</td> \n",
    "    <td>Exponentiation</td> \n",
    "</tr>\n",
    "\n",
    "<tr>\n",
    "    <td>2</td>\n",
    "    <td>*</td> \n",
    "    <td>Multiplication</td> \n",
    "</tr>\n",
    "\n",
    "<tr>\n",
    "    <td>3</td>\n",
    "    <td>+</td> \n",
    "    <td>Addition</td> \n",
    "</tr>\n",
    "\n",
    "\n",
    "<tr>\n",
    "    <td>4</td>\n",
    "    <td>-</td> \n",
    "    <td>Subtraction</td> \n",
    "</tr>\n",
    "\n",
    "</table>"
   ]
  },
  {
   "cell_type": "code",
   "execution_count": null,
   "metadata": {},
   "outputs": [],
   "source": [
    "# Order of Operations followed in Python\n",
    "print('Fisrt Example: ',2 + 10 * 10 + 3)\n",
    "print('Second Example: ', (2+10) * (10+3))"
   ]
  },
  {
   "cell_type": "markdown",
   "metadata": {},
   "source": [
    "## Variable Assignments\n",
    "\n",
    "Now that we've seen how to use numbers in Python as a calculator let's see how we can assign names and create variables.\n",
    "\n",
    "We use a single equals sign to assign labels to variables. Let's see a few examples of how we can do this."
   ]
  },
  {
   "cell_type": "code",
   "execution_count": null,
   "metadata": {},
   "outputs": [],
   "source": [
    "# Assign value to a variable, Good news is, you do not need to define data type! ( Yes one more reason to love python!!)\n",
    "\n",
    "a = 9\n",
    "\n",
    "a+a\n",
    "print('The Value of a is= ',a)"
   ]
  },
  {
   "cell_type": "code",
   "execution_count": null,
   "metadata": {},
   "outputs": [],
   "source": [
    "# Reassigning new value to previously declared variable in python is totally fine!!\n",
    "\n",
    "a = 10\n",
    "a"
   ]
  },
  {
   "cell_type": "markdown",
   "metadata": {},
   "source": [
    "The names you use when creating these labels need to follow a few rules:\n",
    "\n",
    "    1. Names can not start with a number.\n",
    "    2. There can be no spaces in the name, use _ instead.\n",
    "    3. Can't use any of these symbols :'\",<>/?|\\()!@#$%^&*~-+\n",
    "    4. It's considered best practice (PEP8) that names are lowercase.\n",
    "    5. Avoid using the characters 'l' (lowercase letter el), 'O' (uppercase letter oh), \n",
    "       or 'I' (uppercase letter eye) as single character variable names.\n",
    "    6. Avoid using words that have special meaning in Python like \"list\" and \"str\"\n",
    "\n",
    "\n",
    "Using variable names can be a very useful way to keep track of different variables in Python. For example:"
   ]
  },
  {
   "cell_type": "code",
   "execution_count": null,
   "metadata": {},
   "outputs": [],
   "source": [
    "my_income = 100\n",
    "tax_rate = 0.32\n",
    "my_taxes = my_income *tax_rate"
   ]
  },
  {
   "cell_type": "code",
   "execution_count": null,
   "metadata": {},
   "outputs": [],
   "source": [
    "print('My taxes are: ', my_taxes, '%')"
   ]
  },
  {
   "cell_type": "markdown",
   "metadata": {},
   "source": [
    "#### So this was the basic idea of numbers in python. There are many more things to learn about numbers, if you are more interested, take a look at python original documentation here:\n",
    "https://docs.python.org/3.6/library/numbers.html"
   ]
  }
 ],
 "metadata": {
  "kernelspec": {
   "display_name": "Python 3",
   "language": "python",
   "name": "python3"
  },
  "language_info": {
   "codemirror_mode": {
    "name": "ipython",
    "version": 3
   },
   "file_extension": ".py",
   "mimetype": "text/x-python",
   "name": "python",
   "nbconvert_exporter": "python",
   "pygments_lexer": "ipython3",
   "version": "3.7.4"
  }
 },
 "nbformat": 4,
 "nbformat_minor": 2
}
