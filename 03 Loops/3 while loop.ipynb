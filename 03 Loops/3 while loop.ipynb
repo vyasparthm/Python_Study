{
 "cells": [
  {
   "cell_type": "markdown",
   "metadata": {},
   "source": [
    "# while Loops\n",
    "\n",
    "The <code>while</code> statement in Python is one of most general ways to perform iteration. A <code>while</code> statement will repeatedly execute a single statement or group of statements as long as the condition is true. The reason it is called a 'loop' is because the code statements are looped through over and over again until the condition is no longer met.\n",
    "\n",
    "The general format of a while loop is:\n",
    "\n",
    "    while test:\n",
    "        code statements\n",
    "    else:\n",
    "        final code statements\n",
    "\n",
    "<img src=\"../img/WhileLoop.png\"/>\n",
    "\n",
    "Thanks [GeeksforGeeks](https://github.com/vyasparthm/Python_Study/blob/master/03%20Loops/2%20For%20loops.ipynb) for this Graphical Representation.\n",
    "\n",
    "Let’s look at a few simple <code>while</code> loops in action. "
   ]
  },
  {
   "cell_type": "code",
   "execution_count": 2,
   "metadata": {},
   "outputs": [
    {
     "name": "stdout",
     "output_type": "stream",
     "text": [
      "x is currently:  0\n",
      " x is still less than 10, adding 1 to x\n",
      "x is currently:  1\n",
      " x is still less than 10, adding 1 to x\n",
      "x is currently:  2\n",
      " x is still less than 10, adding 1 to x\n",
      "x is currently:  3\n",
      " x is still less than 10, adding 1 to x\n",
      "x is currently:  4\n",
      " x is still less than 10, adding 1 to x\n",
      "x is currently:  5\n",
      " x is still less than 10, adding 1 to x\n",
      "x is currently:  6\n",
      " x is still less than 10, adding 1 to x\n",
      "x is currently:  7\n",
      " x is still less than 10, adding 1 to x\n",
      "x is currently:  8\n",
      " x is still less than 10, adding 1 to x\n",
      "x is currently:  9\n",
      " x is still less than 10, adding 1 to x\n",
      "x is now 10, Exiting the loop\n"
     ]
    }
   ],
   "source": [
    "x = 0\n",
    "\n",
    "while x < 10:\n",
    "    print('x is currently: ',x)\n",
    "    print(' x is still less than 10, adding 1 to x')\n",
    "    x+=1\n",
    "else:\n",
    "    print(f'x is now {x}, Exiting the loop')\n",
    "    "
   ]
  },
  {
   "cell_type": "markdown",
   "metadata": {},
   "source": [
    "# break, continue, pass\n",
    "\n",
    "We can use <code>break</code>, <code>continue</code>, and <code>pass</code> statements in our loops to add additional functionality for various cases. The three statements are defined by:\n",
    "\n",
    "    break: Breaks out of the current closest enclosing loop / It brings control out of the loop. \n",
    "    continue: Goes to the top of the closest enclosing loop / It returns the control to the beginning of the loop. \n",
    "    pass: Does nothing at all / we use it for writing empty loops\n",
    "    \n",
    "    \n",
    "Thinking about <code>break</code> and <code>continue</code> statements, the general format of the <code>while</code> loop looks like this:\n",
    "\n",
    "    while test: \n",
    "        code statement\n",
    "        if test: \n",
    "            break\n",
    "        if test: \n",
    "            continue \n",
    "    else:\n",
    "\n",
    "<code>break</code> and <code>continue</code> statements can appear anywhere inside the loop’s body, but we will usually put them further nested in conjunction with an <code>if</code> statement to perform an action based on some condition.\n",
    "\n",
    "Let's go ahead and look at some examples!"
   ]
  },
  {
   "cell_type": "markdown",
   "metadata": {},
   "source": [
    "## continue"
   ]
  },
  {
   "cell_type": "code",
   "execution_count": 4,
   "metadata": {},
   "outputs": [
    {
     "name": "stdout",
     "output_type": "stream",
     "text": [
      "x is currently 0\n",
      "x is still less than 10, Adding 1 to x\n",
      "Continuing...\n",
      "x is currently 1\n",
      "x is still less than 10, Adding 1 to x\n",
      "Continuing...\n",
      "x is currently 2\n",
      "x is still less than 10, Adding 1 to x\n",
      "x==3\n",
      "x is currently 3\n",
      "x is still less than 10, Adding 1 to x\n",
      "Continuing...\n",
      "x is currently 4\n",
      "x is still less than 10, Adding 1 to x\n",
      "Continuing...\n",
      "x is currently 5\n",
      "x is still less than 10, Adding 1 to x\n",
      "Continuing...\n",
      "x is currently 6\n",
      "x is still less than 10, Adding 1 to x\n",
      "Continuing...\n",
      "x is currently 7\n",
      "x is still less than 10, Adding 1 to x\n",
      "Continuing...\n",
      "x is currently 8\n",
      "x is still less than 10, Adding 1 to x\n",
      "Continuing...\n",
      "x is currently 9\n",
      "x is still less than 10, Adding 1 to x\n",
      "Continuing...\n"
     ]
    }
   ],
   "source": [
    "x = 0\n",
    "while x<10:\n",
    "    print(f'x is currently {x}')\n",
    "    print('x is still less than 10, Adding 1 to x')\n",
    "    x+=1\n",
    "    if x==3:\n",
    "        print('x==3')\n",
    "    else:\n",
    "        print('Continuing...')\n",
    "        continue"
   ]
  },
  {
   "cell_type": "markdown",
   "metadata": {},
   "source": [
    "## break"
   ]
  },
  {
   "cell_type": "code",
   "execution_count": 6,
   "metadata": {},
   "outputs": [
    {
     "name": "stdout",
     "output_type": "stream",
     "text": [
      "x is currently 0\n",
      "x is still less than 10, Adding 1 to x\n",
      "Continueing..\n",
      "x is currently 1\n",
      "x is still less than 10, Adding 1 to x\n",
      "Continueing..\n",
      "x is currently 2\n",
      "x is still less than 10, Adding 1 to x\n",
      "Breaking because x = 3\n"
     ]
    }
   ],
   "source": [
    "x = 0\n",
    "while x<10:\n",
    "    print(f'x is currently {x}')\n",
    "    print('x is still less than 10, Adding 1 to x')\n",
    "    x+=1\n",
    "    if x==3:\n",
    "        print(f'Breaking because x = {x}')\n",
    "        break\n",
    "    else:\n",
    "        print('Continueing..')\n",
    "        "
   ]
  },
  {
   "cell_type": "markdown",
   "metadata": {},
   "source": [
    "## pass"
   ]
  },
  {
   "cell_type": "code",
   "execution_count": 7,
   "metadata": {},
   "outputs": [
    {
     "name": "stdout",
     "output_type": "stream",
     "text": [
      "x is currently 0\n",
      "x is still less than 10, Adding 1 to x\n",
      "Continueing..\n",
      "x is currently 1\n",
      "x is still less than 10, Adding 1 to x\n",
      "Continueing..\n",
      "x is currently 2\n",
      "x is still less than 10, Adding 1 to x\n",
      "Passing because x = 3\n",
      "x is currently 3\n",
      "x is still less than 10, Adding 1 to x\n",
      "Continueing..\n",
      "x is currently 4\n",
      "x is still less than 10, Adding 1 to x\n",
      "Continueing..\n",
      "x is currently 5\n",
      "x is still less than 10, Adding 1 to x\n",
      "Continueing..\n",
      "x is currently 6\n",
      "x is still less than 10, Adding 1 to x\n",
      "Continueing..\n",
      "x is currently 7\n",
      "x is still less than 10, Adding 1 to x\n",
      "Continueing..\n",
      "x is currently 8\n",
      "x is still less than 10, Adding 1 to x\n",
      "Continueing..\n",
      "x is currently 9\n",
      "x is still less than 10, Adding 1 to x\n",
      "Continueing..\n"
     ]
    }
   ],
   "source": [
    "x = 0\n",
    "while x<10:\n",
    "    print(f'x is currently {x}')\n",
    "    print('x is still less than 10, Adding 1 to x')\n",
    "    x+=1\n",
    "    if x==3:\n",
    "        print(f'Passing because x = {x}')\n",
    "        pass\n",
    "    else:\n",
    "        print('Continueing..')"
   ]
  },
  {
   "cell_type": "markdown",
   "metadata": {},
   "source": [
    "This was the basic of while loops in Python, for detailed documentation, refer to [Python Original](https://docs.python.org/3.7/tutorial/controlflow.html) documentation."
   ]
  }
 ],
 "metadata": {
  "kernelspec": {
   "display_name": "Python 3",
   "language": "python",
   "name": "python3"
  },
  "language_info": {
   "codemirror_mode": {
    "name": "ipython",
    "version": 3
   },
   "file_extension": ".py",
   "mimetype": "text/x-python",
   "name": "python",
   "nbconvert_exporter": "python",
   "pygments_lexer": "ipython3",
   "version": "3.7.1"
  }
 },
 "nbformat": 4,
 "nbformat_minor": 2
}
