{
 "cells": [
  {
   "cell_type": "markdown",
   "metadata": {},
   "source": [
    "# for Loops\n",
    "\n",
    "A <code>for</code> loop acts as an iterator in Python; it goes through items that are in a *sequence* or any other iterable item. Objects that we've learned about that we can iterate over include strings, lists, tuples, and even built-in iterables for dictionaries, such as keys or values.\n",
    "\n",
    "Here's the general format for a <code>for</code> loop in Python:\n",
    "           \n",
    "           for item in object:\n",
    "               Do some stuff\n",
    "           \n",
    "\n",
    "\n",
    "<img src=\"../img/ForLoop.png\"/>\n",
    "\n",
    "Thanks [GeeksforGeeks](https://www.geeksforgeeks.org/python-for-loops/) for this Graphical Representation."
   ]
  },
  {
   "cell_type": "markdown",
   "metadata": {},
   "source": [
    "The variable name used for the item is completely up to you, so use your best judgment for choosing a name that makes sense and you will be able to understand when revisiting your code. This item name can then be referenced inside your loop, for example if you wanted to use <code>if</code> statements to perform checks.\n",
    "\n",
    "Let's go ahead and work through several example of <code>for</code> loops using a variety of data object types. We'll start simple and build more complexity later on.\n",
    "\n",
    "## Example 1\n",
    "Iterating through a <code>list</code>"
   ]
  },
  {
   "cell_type": "code",
   "execution_count": 1,
   "metadata": {},
   "outputs": [
    {
     "name": "stdout",
     "output_type": "stream",
     "text": [
      "1\n",
      "3\n",
      "2\n",
      "6\n",
      "7\n",
      "8\n",
      "9\n",
      "5\n"
     ]
    }
   ],
   "source": [
    "# Lets make a random list of numbers\n",
    "\n",
    "new_list= [1,3,2,6,7,8,9,5]\n",
    "\n",
    "#we will call our item variable = number just for simplicity but you can chose to call it anything you want\n",
    "for number in new_list:\n",
    "    print(number)"
   ]
  },
  {
   "cell_type": "markdown",
   "metadata": {},
   "source": [
    "## Example 2"
   ]
  },
  {
   "cell_type": "code",
   "execution_count": 2,
   "metadata": {},
   "outputs": [
    {
     "name": "stdout",
     "output_type": "stream",
     "text": [
      "Odd:  1\n",
      "Odd:  3\n",
      "Even:  2\n",
      "Even:  6\n",
      "Odd:  7\n",
      "Even:  8\n",
      "Odd:  9\n",
      "Odd:  5\n"
     ]
    }
   ],
   "source": [
    "#Now lets see what we can do if we want to check if the number is Odd or even and print it that way\n",
    "\n",
    "for number in new_list:\n",
    "    if number%2 == 0:\n",
    "        print('Even: ',number)\n",
    "    else:\n",
    "        print('Odd: ',number)\n",
    "    "
   ]
  },
  {
   "cell_type": "markdown",
   "metadata": {},
   "source": [
    "## Example 3\n",
    "Another common idea during a <code>for</code> loop is keeping some sort of running tally during multiple loops. For example, let's create a <code>for</code> loop that sums up the list:"
   ]
  },
  {
   "cell_type": "code",
   "execution_count": 3,
   "metadata": {},
   "outputs": [
    {
     "name": "stdout",
     "output_type": "stream",
     "text": [
      "41\n"
     ]
    }
   ],
   "source": [
    "# Start sum at zero\n",
    "list_sum = 0 \n",
    "\n",
    "for num in new_list:\n",
    "    list_sum = list_sum + num\n",
    "\n",
    "print(list_sum)"
   ]
  },
  {
   "cell_type": "code",
   "execution_count": 5,
   "metadata": {},
   "outputs": [
    {
     "name": "stdout",
     "output_type": "stream",
     "text": [
      "Intermediate sum:  1\n",
      "Intermediate sum:  4\n",
      "Intermediate sum:  6\n",
      "Intermediate sum:  12\n",
      "Intermediate sum:  19\n",
      "Intermediate sum:  27\n",
      "Intermediate sum:  36\n",
      "Intermediate sum:  41\n",
      "Final Sum:  41\n"
     ]
    }
   ],
   "source": [
    "# now lets say I want to see the sum each time the next item is added to the list_sum\n",
    "\n",
    "# Start sum at zero\n",
    "list_sum = 0 \n",
    "\n",
    "for num in new_list:\n",
    "    list_sum = list_sum + num\n",
    "    print('Intermediate sum: ', list_sum)\n",
    "\n",
    "print('Final Sum: ',list_sum)"
   ]
  },
  {
   "cell_type": "markdown",
   "metadata": {},
   "source": [
    "## Example 4\n",
    "\n",
    "Lets try a for loop on a string now. "
   ]
  },
  {
   "cell_type": "code",
   "execution_count": 6,
   "metadata": {},
   "outputs": [
    {
     "name": "stdout",
     "output_type": "stream",
     "text": [
      "T\n",
      "h\n",
      "i\n",
      "s\n",
      " \n",
      "i\n",
      "s\n",
      " \n",
      "a\n",
      " \n",
      "s\n",
      "t\n",
      "r\n",
      "i\n",
      "n\n",
      "g\n",
      " \n",
      "t\n",
      "o\n",
      " \n",
      "d\n",
      "e\n",
      "m\n",
      "o\n",
      " \n",
      "f\n",
      "o\n",
      "r\n",
      " \n",
      "l\n",
      "o\n",
      "o\n",
      "p\n"
     ]
    }
   ],
   "source": [
    "for character in 'This is a string to demo for loop':\n",
    "    print(character)"
   ]
  },
  {
   "cell_type": "markdown",
   "metadata": {},
   "source": [
    "## Example 5\n",
    "Let's now look at how a <code>for</code> loop can be used with a tuple:"
   ]
  },
  {
   "cell_type": "code",
   "execution_count": 7,
   "metadata": {},
   "outputs": [
    {
     "name": "stdout",
     "output_type": "stream",
     "text": [
      "1\n",
      "2\n",
      "3\n",
      "4\n",
      "5\n"
     ]
    }
   ],
   "source": [
    "tup = (1,2,3,4,5)\n",
    "\n",
    "for t in tup:\n",
    "    print(t)"
   ]
  },
  {
   "cell_type": "code",
   "execution_count": 9,
   "metadata": {},
   "outputs": [
    {
     "name": "stdout",
     "output_type": "stream",
     "text": [
      "(2, 4)\n",
      "(6, 8)\n",
      "(10, 12)\n"
     ]
    }
   ],
   "source": [
    "# lets do a little more messing around with tuples\n",
    "list2 = [(2,4),(6,8),(10,12)]\n",
    "\n",
    "for tup in list2:\n",
    "    print(tup)\n"
   ]
  },
  {
   "cell_type": "code",
   "execution_count": 11,
   "metadata": {},
   "outputs": [
    {
     "name": "stdout",
     "output_type": "stream",
     "text": [
      "Item 1:  2\n",
      "Item 2: 4\n",
      "Item 1:  6\n",
      "Item 2: 8\n",
      "Item 1:  10\n",
      "Item 2: 12\n"
     ]
    }
   ],
   "source": [
    "# What if I want to print each item inside a tuple? or just one of it?\n",
    "# Change below code to print out both or just one item as needed.\n",
    "for t1,t2 in list2:\n",
    "    print('Item 1: ',t1)\n",
    "    print('Item 2:',t2)"
   ]
  },
  {
   "cell_type": "markdown",
   "metadata": {},
   "source": [
    "What we did above is called `Tuple Unpacking`"
   ]
  },
  {
   "cell_type": "markdown",
   "metadata": {},
   "source": [
    "## Example 6\n",
    "\n",
    "Dictionaries:"
   ]
  },
  {
   "cell_type": "code",
   "execution_count": 12,
   "metadata": {},
   "outputs": [
    {
     "name": "stdout",
     "output_type": "stream",
     "text": [
      "k1\n",
      "k2\n",
      "k3\n"
     ]
    }
   ],
   "source": [
    "d = {'k1':1,'k2':2,'k3':3}\n",
    "\n",
    "for item in d:\n",
    "    print(item)"
   ]
  },
  {
   "cell_type": "markdown",
   "metadata": {},
   "source": [
    "As you noticed above, the above code gives us only `keys`. What if I want to print keys and/or values as I need?\n",
    "Lets take a look on how we can do this:\n",
    "\n",
    "We can use `dictionary` methods to achieve  this:\n",
    "1. <code>.keys()</code>\n",
    "2. <code>.values()</code>\n",
    "3. <code>.items()</code>"
   ]
  },
  {
   "cell_type": "code",
   "execution_count": 13,
   "metadata": {},
   "outputs": [
    {
     "name": "stdout",
     "output_type": "stream",
     "text": [
      "Keys:  dict_keys(['k1', 'k2', 'k3'])\n",
      "Values:  dict_values([1, 2, 3])\n",
      "Items:  dict_items([('k1', 1), ('k2', 2), ('k3', 3)])\n"
     ]
    }
   ],
   "source": [
    "print('Keys: ',d.keys())\n",
    "print('Values: ',d.values())\n",
    "print('Items: ',d.items())"
   ]
  },
  {
   "cell_type": "code",
   "execution_count": null,
   "metadata": {},
   "outputs": [],
   "source": [
    "#lets dive in the code now:\n",
    "\n",
    "for k,v in d.items():\n",
    "    print('Key:', k)\n",
    "    print('Value',v)"
   ]
  },
  {
   "cell_type": "markdown",
   "metadata": {},
   "source": [
    "## Example 7\n",
    "\n",
    "`Range()` Function\n",
    "\n",
    "In simple terms, <code>range()</code> allows user to generate a series of numbers within a given range. Depending on how many arguments user is passing to the function, user can decide where that series of numbers will begin and end as well as how big the difference will be between one number and the next.<code>range()</code> takes mainly three arguments.\n",
    "\n",
    "* start: integer starting from which the sequence of integers is to be returned\n",
    "* stop: integer before which the sequence of integers is to be returned.\n",
    "  The range of integers end at stop – 1.\n",
    "* step: integer value which determines the increment between each integer in the sequence\n",
    "\n",
    "Without delay, lets get into the code."
   ]
  },
  {
   "cell_type": "code",
   "execution_count": 4,
   "metadata": {},
   "outputs": [
    {
     "name": "stdout",
     "output_type": "stream",
     "text": [
      "0\n",
      "1\n",
      "2\n",
      "3\n",
      "4\n",
      "5\n",
      "6\n",
      "7\n",
      "8\n",
      "9\n"
     ]
    }
   ],
   "source": [
    "# Lets print a number\n",
    "for i in range(10):\n",
    "    print(i)"
   ]
  },
  {
   "cell_type": "code",
   "execution_count": 9,
   "metadata": {},
   "outputs": [
    {
     "name": "stdout",
     "output_type": "stream",
     "text": [
      "Enter a number: 5\n",
      "Multiplication Table for 5\n",
      "5 * 1 = 5\n",
      "5 * 2 = 10\n",
      "5 * 3 = 15\n",
      "5 * 4 = 20\n",
      "5 * 5 = 25\n",
      "5 * 6 = 30\n",
      "5 * 7 = 35\n",
      "5 * 8 = 40\n",
      "5 * 9 = 45\n",
      "5 * 10 = 50\n"
     ]
    }
   ],
   "source": [
    "# create loop for multiplication table\n",
    "# Lets say you want yser to enter a number and create a multiplication table of that number\n",
    "\n",
    "number = int(input('Enter a number: '))\n",
    "\n",
    "print('Multiplication Table for',number)\n",
    "\n",
    "for i in range(1,11):\n",
    "    print(number,'*',i, '=',i*number)"
   ]
  },
  {
   "cell_type": "code",
   "execution_count": 12,
   "metadata": {},
   "outputs": [
    {
     "name": "stdout",
     "output_type": "stream",
     "text": [
      "10\n",
      "9\n",
      "8\n",
      "7\n",
      "6\n",
      "5\n",
      "4\n",
      "3\n",
      "2\n",
      "1\n"
     ]
    }
   ],
   "source": [
    "# Output the numbers 1 to 10 backwards using a loop\n",
    "\n",
    "for i in range(10,0,-1):\n",
    "    print(i)"
   ]
  },
  {
   "cell_type": "markdown",
   "metadata": {},
   "source": [
    "This was the basics of for loops, for more details please take a look at [Python original](https://docs.python.org/3.7/tutorial/controlflow.html) documentation "
   ]
  }
 ],
 "metadata": {
  "kernelspec": {
   "display_name": "Python 3",
   "language": "python",
   "name": "python3"
  },
  "language_info": {
   "codemirror_mode": {
    "name": "ipython",
    "version": 3
   },
   "file_extension": ".py",
   "mimetype": "text/x-python",
   "name": "python",
   "nbconvert_exporter": "python",
   "pygments_lexer": "ipython3",
   "version": "3.7.4"
  }
 },
 "nbformat": 4,
 "nbformat_minor": 2
}
